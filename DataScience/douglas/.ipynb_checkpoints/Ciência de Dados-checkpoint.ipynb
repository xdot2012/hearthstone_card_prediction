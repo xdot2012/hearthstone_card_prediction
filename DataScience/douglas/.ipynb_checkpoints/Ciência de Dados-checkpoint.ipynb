{
 "cells": [
  {
   "cell_type": "markdown",
   "metadata": {},
   "source": [
    "# Trabalho Ciência de dados"
   ]
  },
  {
   "cell_type": "markdown",
   "metadata": {},
   "source": [
    "<h4>Grupo:</h4>\n",
    "<p>\n",
    "    <br>Christopher Martins\n",
    "    <br>Daniel Lopes\n",
    "    <br>Douglas Gonçalves Sales\n",
    "</p>"
   ]
  },
  {
   "cell_type": "markdown",
   "metadata": {},
   "source": [
    "# Sobre a Linguagem\n",
    "\n",
    " O Python é uma linguagem interpretada de alto nível e foi escolhida pelo mérito acumulado ao longo de 28 anos de desenvolvimento.\n",
    "\n",
    "<h4><strong>Facilidade de Aprendizado e de Uso:</strong></h4>\n",
    "    <br>Python é uma linguagem de alto nível e de fácil aprendizado. Com isso, podemos começar a analisar os dados sem perder tempo descobrindo particularides da linguagem. De acordo com Stackoverflow, de 2018, o Python é a linguagem de programação mais popular do mundo, e é considerada uma linguagem para iniciantes, onde qualquer pessoa que possua um conhecimento básico de programação consegue utiliza-la.   \n",
    "    \n",
    "<h4><strong>Grande Comunidade:</strong></h4>\n",
    "    <br>A linguagem é amplamente utilizada para ciência de dados, e possui uma comunidade expecialista e colaborativa. O problema que um utilizador novato de Python vivencia, provavelmente já foi resolvido por um outro usuário mais experiente.  \n",
    "    \n",
    "<h4><strong>Grande Número de Bibliotecas e Frameworks:</strong></h4> \n",
    "    <br>A linguagem Python possui uma enorme variablidade de bibliotecas, desde a mais básicas como expressões regulares até inteligência artificial e aprendizado ao homem máquina, conexões HTTP seguras, processamento de XML e HTML, bancos de dados, net scraping, etc.  \n",
    "\n",
    "<h4><strong>Atualizada Constantemente:</strong></h4>\n",
    "    <br>Python é uma linguagem em desenvolvimento, constantemente atualizada. Muitos dos problemas vivenciados a pouco tempo atrás já não existem mais, e os problemas que existem hoje podem não existirão mais daqui a algum tempo.\n",
    "\n",
    "<h4><strong>Popularidade no Mercado:</strong></h4>\n",
    "   <br>Desde seu lançamento em 1991, Python têm evoluido para se tornar uma das linguagens de programação mais dinâmicas e populares no mercado visto que é extremamente versátil. eSeu uso se extende desde análise de dados até aplicações web e aprendizagem de máquina.\n",
    "       "
   ]
  },
  {
   "cell_type": "markdown",
   "metadata": {},
   "source": [
    "# Dataset"
   ]
  },
  {
   "cell_type": "markdown",
   "metadata": {},
   "source": [
    "# Pandas e NumPy\n",
    "\n",
    "Duas das bibliotecas mais usadas para análise de dados são o Pandas e o NumPy, de acordo com datascienceacademy. Ambos serão utilizados neste trabalho.\n",
    "Pandas é uma biblioteca Python para análises de dados que, de acordo com a documentação oficial, é de alta performance e de fácil utilização. Entre suas funcionalidades a mais comum é a de importação de arquivos CSV através do comando pandas.read_csv() que gera um arquivo do tipo \"DataFrame\", que pode então ser análisado e editado.\n"
   ]
  },
  {
   "cell_type": "markdown",
   "metadata": {},
   "source": [
    "<strong>Arquivos no Dataset:</strong>\n",
    "\n",
    "<strong>1- data.csv:</strong>\n",
    "Contém informações sobre os decks(baralhos), os usuários, as cartas e a data de retirada dos dados.\n",
    "\n",
    "<strong>craft_cost:</strong> Custo da contrução do baralho;<br>\n",
    "<strong>date:</strong> Data de postagem do baralho;<br>\n",
    "<strong>deck_archetype:</strong> Classificação dada de acordo com a tipagem do baralho;<br>\n",
    "<strong>deck_class:</strong> Nome da clase correspondente a cada baralho;<br>\n",
    "<strong>deck_format:</strong> Categoria que determina quais cartas são permitidas em cada baralho;<br>\n",
    "<strong>deck_id:</strong> Chave única que representa cada baralho;<br>\n",
    "<strong>deck_set:</strong> Expansão mais recente correspondente a cada baralho;<br>\n",
    "<strong>deck_type:</strong> Modo de jogo(neste trabalho limitamos o escopo à somente partidas ranqueadas);<br>\n",
    "<strong>rating:</strong> Nota atribuída ao baralho no site hearthpwm.com;<br>\n",
    "<strong>title:</strong> Nome do baralho;<br>\n",
    "<strong>user:</strong> Nome do autor do baralho;<br>\n",
    "<strong>card_0 até card_29:</strong> Id de cada carta; \n",
    "\n",
    "<strong>2- refs.json:</strong>\n",
    "Contém as referências das cartas.\n",
    "\n",
    "<strong>artist:</strong> Autor da arte da carta;<br>\n",
    "<strong>attack:</strong> Poder de ataque da carta;<br>\n",
    "<strong>cardClass:</strong> Classe da carta;<br>\n",
    "<strong>classes:</strong> Classe do herói;<br>\n",
    "<strong>collectible:</strong> Determinante de disponibilidade de adquirir a carta;<br>\n",
    "<strong>collectionText:</strong> Coleção da carta;<br>\n",
    "<strong>cost:</strong> Custo da carta em Dust;<br>\n",
    "<strong>dbfId:</strong> Id da carta referenciado no arquivo data.csv;<br>\n",
    "<strong>durability:</strong> Valor de durabilidade de cartas do tipo arma; <br>\n",
    "<strong>elite:</strong> Determina se a carta é de elite ou não;<br>\n",
    "<strong>faction:</strong> Facção da carta(Horda ou Aliança);<br>\n",
    "<strong>flavor:</strong> Texto fantasioso da carta;<br>\n",
    "<strong>health:</strong> Quantidade de vida de cada baralho;<br>\n",
    "<strong>howToEarn:</strong> Pré-requisito para adquirir a carta;<br>\n",
    "<strong>howToEarnGolden:</strong> Pré-requisito para adquirir a versão dourada da carta;<br>\n",
    "<strong>id:</strong> Chave da carta no jogo;<br>\n",
    "<strong>mechanics:</strong> Características que determinam certos efeitos da carta;<br>\n",
    "<strong>name:</strong> Nome da carta;<br>\n",
    "<strong>overload:</strong> Valor que determina o efeito de uma mecânica do jogo;<br>\n",
    "<strong>playRequirements:</strong> Pré-requisitos para o uso da carta;<br>\n",
    "<strong>playerClass:</strong> Classe do herói; <br>\n",
    "<strong>race:</strong> Raça da carta de monstro;<br>\n",
    "<strong>rarity:</strong>Raridade da carta;<br>\n",
    "<strong>referencedTags:</strong> Características que determinam certos efeitos da carta;<br>\n",
    "<strong>set:</strong> Expansão na qual a carta foi lançada;<br>\n",
    "<strong>spellDamage:</strong> Dano mágico da carta;<br>\n",
    "<strong>targetingArrowText:</strong> Dados referentes a carta;<br>\n",
    "<strong>text:</strong> Descrição da carta;<br>\n",
    "<strong>type:</strong> Tipo da carta;"
   ]
  },
  {
   "cell_type": "markdown",
   "metadata": {},
   "source": [
    "<h4><strong>Arquivos do Dataset</strong></h4>"
   ]
  },
  {
   "cell_type": "code",
   "execution_count": 12,
   "metadata": {},
   "outputs": [],
   "source": [
    "# https://www.kaggle.com/romainvincent/history-of-hearthstone/data\n",
    "import getpass, os, pandas, requests, math, numpy\n",
    "import matplotlib.pyplot as plt\n",
    "import seaborn as sns\n",
    "from datetime import datetime, timedelta\n",
    "\n",
    "\n",
    "\n",
    "user = getpass.getuser()\n",
    "path = str(str(user) + \"/datasets/\")"
   ]
  },
  {
   "cell_type": "markdown",
   "metadata": {},
   "source": [
    "<h4><strong>Importação</strong></h4>"
   ]
  },
  {
   "cell_type": "code",
   "execution_count": 14,
   "metadata": {},
   "outputs": [
    {
     "ename": "FileNotFoundError",
     "evalue": "[Errno 2] File b'20162016014/datasets/data.csv' does not exist: b'20162016014/datasets/data.csv'",
     "output_type": "error",
     "traceback": [
      "\u001b[0;31m---------------------------------------------------------------------------\u001b[0m",
      "\u001b[0;31mFileNotFoundError\u001b[0m                         Traceback (most recent call last)",
      "\u001b[0;32m<ipython-input-14-bc62acc17436>\u001b[0m in \u001b[0;36m<module>\u001b[0;34m\u001b[0m\n\u001b[0;32m----> 1\u001b[0;31m \u001b[0mdecks\u001b[0m \u001b[0;34m=\u001b[0m \u001b[0mpandas\u001b[0m\u001b[0;34m.\u001b[0m\u001b[0mread_csv\u001b[0m\u001b[0;34m(\u001b[0m\u001b[0mpath\u001b[0m \u001b[0;34m+\u001b[0m \u001b[0mstr\u001b[0m\u001b[0;34m(\u001b[0m\u001b[0;34m\"data.csv\"\u001b[0m\u001b[0;34m)\u001b[0m\u001b[0;34m)\u001b[0m\u001b[0;34m\u001b[0m\u001b[0m\n\u001b[0m\u001b[1;32m      2\u001b[0m \u001b[0mcard_info\u001b[0m \u001b[0;34m=\u001b[0m \u001b[0mpandas\u001b[0m\u001b[0;34m.\u001b[0m\u001b[0mread_json\u001b[0m\u001b[0;34m(\u001b[0m\u001b[0mpath\u001b[0m \u001b[0;34m+\u001b[0m \u001b[0mstr\u001b[0m\u001b[0;34m(\u001b[0m\u001b[0;34m\"refs.json\"\u001b[0m\u001b[0;34m)\u001b[0m\u001b[0;34m)\u001b[0m\u001b[0;34m\u001b[0m\u001b[0m\n",
      "\u001b[0;32m/usr/local/lib/python3.5/dist-packages/pandas/io/parsers.py\u001b[0m in \u001b[0;36mparser_f\u001b[0;34m(filepath_or_buffer, sep, delimiter, header, names, index_col, usecols, squeeze, prefix, mangle_dupe_cols, dtype, engine, converters, true_values, false_values, skipinitialspace, skiprows, skipfooter, nrows, na_values, keep_default_na, na_filter, verbose, skip_blank_lines, parse_dates, infer_datetime_format, keep_date_col, date_parser, dayfirst, cache_dates, iterator, chunksize, compression, thousands, decimal, lineterminator, quotechar, quoting, doublequote, escapechar, comment, encoding, dialect, error_bad_lines, warn_bad_lines, delim_whitespace, low_memory, memory_map, float_precision)\u001b[0m\n\u001b[1;32m    683\u001b[0m         )\n\u001b[1;32m    684\u001b[0m \u001b[0;34m\u001b[0m\u001b[0m\n\u001b[0;32m--> 685\u001b[0;31m         \u001b[0;32mreturn\u001b[0m \u001b[0m_read\u001b[0m\u001b[0;34m(\u001b[0m\u001b[0mfilepath_or_buffer\u001b[0m\u001b[0;34m,\u001b[0m \u001b[0mkwds\u001b[0m\u001b[0;34m)\u001b[0m\u001b[0;34m\u001b[0m\u001b[0m\n\u001b[0m\u001b[1;32m    686\u001b[0m \u001b[0;34m\u001b[0m\u001b[0m\n\u001b[1;32m    687\u001b[0m     \u001b[0mparser_f\u001b[0m\u001b[0;34m.\u001b[0m\u001b[0m__name__\u001b[0m \u001b[0;34m=\u001b[0m \u001b[0mname\u001b[0m\u001b[0;34m\u001b[0m\u001b[0m\n",
      "\u001b[0;32m/usr/local/lib/python3.5/dist-packages/pandas/io/parsers.py\u001b[0m in \u001b[0;36m_read\u001b[0;34m(filepath_or_buffer, kwds)\u001b[0m\n\u001b[1;32m    455\u001b[0m \u001b[0;34m\u001b[0m\u001b[0m\n\u001b[1;32m    456\u001b[0m     \u001b[0;31m# Create the parser.\u001b[0m\u001b[0;34m\u001b[0m\u001b[0;34m\u001b[0m\u001b[0m\n\u001b[0;32m--> 457\u001b[0;31m     \u001b[0mparser\u001b[0m \u001b[0;34m=\u001b[0m \u001b[0mTextFileReader\u001b[0m\u001b[0;34m(\u001b[0m\u001b[0mfp_or_buf\u001b[0m\u001b[0;34m,\u001b[0m \u001b[0;34m**\u001b[0m\u001b[0mkwds\u001b[0m\u001b[0;34m)\u001b[0m\u001b[0;34m\u001b[0m\u001b[0m\n\u001b[0m\u001b[1;32m    458\u001b[0m \u001b[0;34m\u001b[0m\u001b[0m\n\u001b[1;32m    459\u001b[0m     \u001b[0;32mif\u001b[0m \u001b[0mchunksize\u001b[0m \u001b[0;32mor\u001b[0m \u001b[0miterator\u001b[0m\u001b[0;34m:\u001b[0m\u001b[0;34m\u001b[0m\u001b[0m\n",
      "\u001b[0;32m/usr/local/lib/python3.5/dist-packages/pandas/io/parsers.py\u001b[0m in \u001b[0;36m__init__\u001b[0;34m(self, f, engine, **kwds)\u001b[0m\n\u001b[1;32m    893\u001b[0m             \u001b[0mself\u001b[0m\u001b[0;34m.\u001b[0m\u001b[0moptions\u001b[0m\u001b[0;34m[\u001b[0m\u001b[0;34m\"has_index_names\"\u001b[0m\u001b[0;34m]\u001b[0m \u001b[0;34m=\u001b[0m \u001b[0mkwds\u001b[0m\u001b[0;34m[\u001b[0m\u001b[0;34m\"has_index_names\"\u001b[0m\u001b[0;34m]\u001b[0m\u001b[0;34m\u001b[0m\u001b[0m\n\u001b[1;32m    894\u001b[0m \u001b[0;34m\u001b[0m\u001b[0m\n\u001b[0;32m--> 895\u001b[0;31m         \u001b[0mself\u001b[0m\u001b[0;34m.\u001b[0m\u001b[0m_make_engine\u001b[0m\u001b[0;34m(\u001b[0m\u001b[0mself\u001b[0m\u001b[0;34m.\u001b[0m\u001b[0mengine\u001b[0m\u001b[0;34m)\u001b[0m\u001b[0;34m\u001b[0m\u001b[0m\n\u001b[0m\u001b[1;32m    896\u001b[0m \u001b[0;34m\u001b[0m\u001b[0m\n\u001b[1;32m    897\u001b[0m     \u001b[0;32mdef\u001b[0m \u001b[0mclose\u001b[0m\u001b[0;34m(\u001b[0m\u001b[0mself\u001b[0m\u001b[0;34m)\u001b[0m\u001b[0;34m:\u001b[0m\u001b[0;34m\u001b[0m\u001b[0m\n",
      "\u001b[0;32m/usr/local/lib/python3.5/dist-packages/pandas/io/parsers.py\u001b[0m in \u001b[0;36m_make_engine\u001b[0;34m(self, engine)\u001b[0m\n\u001b[1;32m   1133\u001b[0m     \u001b[0;32mdef\u001b[0m \u001b[0m_make_engine\u001b[0m\u001b[0;34m(\u001b[0m\u001b[0mself\u001b[0m\u001b[0;34m,\u001b[0m \u001b[0mengine\u001b[0m\u001b[0;34m=\u001b[0m\u001b[0;34m\"c\"\u001b[0m\u001b[0;34m)\u001b[0m\u001b[0;34m:\u001b[0m\u001b[0;34m\u001b[0m\u001b[0m\n\u001b[1;32m   1134\u001b[0m         \u001b[0;32mif\u001b[0m \u001b[0mengine\u001b[0m \u001b[0;34m==\u001b[0m \u001b[0;34m\"c\"\u001b[0m\u001b[0;34m:\u001b[0m\u001b[0;34m\u001b[0m\u001b[0m\n\u001b[0;32m-> 1135\u001b[0;31m             \u001b[0mself\u001b[0m\u001b[0;34m.\u001b[0m\u001b[0m_engine\u001b[0m \u001b[0;34m=\u001b[0m \u001b[0mCParserWrapper\u001b[0m\u001b[0;34m(\u001b[0m\u001b[0mself\u001b[0m\u001b[0;34m.\u001b[0m\u001b[0mf\u001b[0m\u001b[0;34m,\u001b[0m \u001b[0;34m**\u001b[0m\u001b[0mself\u001b[0m\u001b[0;34m.\u001b[0m\u001b[0moptions\u001b[0m\u001b[0;34m)\u001b[0m\u001b[0;34m\u001b[0m\u001b[0m\n\u001b[0m\u001b[1;32m   1136\u001b[0m         \u001b[0;32melse\u001b[0m\u001b[0;34m:\u001b[0m\u001b[0;34m\u001b[0m\u001b[0m\n\u001b[1;32m   1137\u001b[0m             \u001b[0;32mif\u001b[0m \u001b[0mengine\u001b[0m \u001b[0;34m==\u001b[0m \u001b[0;34m\"python\"\u001b[0m\u001b[0;34m:\u001b[0m\u001b[0;34m\u001b[0m\u001b[0m\n",
      "\u001b[0;32m/usr/local/lib/python3.5/dist-packages/pandas/io/parsers.py\u001b[0m in \u001b[0;36m__init__\u001b[0;34m(self, src, **kwds)\u001b[0m\n\u001b[1;32m   1915\u001b[0m         \u001b[0mkwds\u001b[0m\u001b[0;34m[\u001b[0m\u001b[0;34m\"usecols\"\u001b[0m\u001b[0;34m]\u001b[0m \u001b[0;34m=\u001b[0m \u001b[0mself\u001b[0m\u001b[0;34m.\u001b[0m\u001b[0musecols\u001b[0m\u001b[0;34m\u001b[0m\u001b[0m\n\u001b[1;32m   1916\u001b[0m \u001b[0;34m\u001b[0m\u001b[0m\n\u001b[0;32m-> 1917\u001b[0;31m         \u001b[0mself\u001b[0m\u001b[0;34m.\u001b[0m\u001b[0m_reader\u001b[0m \u001b[0;34m=\u001b[0m \u001b[0mparsers\u001b[0m\u001b[0;34m.\u001b[0m\u001b[0mTextReader\u001b[0m\u001b[0;34m(\u001b[0m\u001b[0msrc\u001b[0m\u001b[0;34m,\u001b[0m \u001b[0;34m**\u001b[0m\u001b[0mkwds\u001b[0m\u001b[0;34m)\u001b[0m\u001b[0;34m\u001b[0m\u001b[0m\n\u001b[0m\u001b[1;32m   1918\u001b[0m         \u001b[0mself\u001b[0m\u001b[0;34m.\u001b[0m\u001b[0munnamed_cols\u001b[0m \u001b[0;34m=\u001b[0m \u001b[0mself\u001b[0m\u001b[0;34m.\u001b[0m\u001b[0m_reader\u001b[0m\u001b[0;34m.\u001b[0m\u001b[0munnamed_cols\u001b[0m\u001b[0;34m\u001b[0m\u001b[0m\n\u001b[1;32m   1919\u001b[0m \u001b[0;34m\u001b[0m\u001b[0m\n",
      "\u001b[0;32mpandas/_libs/parsers.pyx\u001b[0m in \u001b[0;36mpandas._libs.parsers.TextReader.__cinit__\u001b[0;34m()\u001b[0m\n",
      "\u001b[0;32mpandas/_libs/parsers.pyx\u001b[0m in \u001b[0;36mpandas._libs.parsers.TextReader._setup_parser_source\u001b[0;34m()\u001b[0m\n",
      "\u001b[0;31mFileNotFoundError\u001b[0m: [Errno 2] File b'20162016014/datasets/data.csv' does not exist: b'20162016014/datasets/data.csv'"
     ]
    }
   ],
   "source": [
    "decks = pandas.read_csv(path + str(\"data.csv\"))\n",
    "card_info = pandas.read_json(path + str(\"refs.json\"))"
   ]
  },
  {
   "cell_type": "markdown",
   "metadata": {},
   "source": [
    "<h4><strong>Limpeza dos Dados</strong></h4>"
   ]
  },
  {
   "cell_type": "code",
   "execution_count": null,
   "metadata": {},
   "outputs": [],
   "source": [
    "# remove tabs and newlines from user names\n",
    "decks['user'] = decks['user'].apply(str.strip)\n",
    "\n",
    "#remove other game modes\n",
    "filter_ranked = decks['deck_type'] == 'Ranked Deck'\n",
    "decks = decks[filter_ranked]\n",
    "\n",
    "# transform date strings to datetime objects\n",
    "decks.date = pandas.to_datetime(decks.date)\n",
    "release_date = datetime(2014, 3, 11)\n",
    "filter_release_date = decks.date > release_date\n",
    "decks = decks[filter_release_date]\n",
    "\n",
    "decks['year'] = pandas.DatetimeIndex(decks['date']).year"
   ]
  },
  {
   "cell_type": "markdown",
   "metadata": {},
   "source": [
    "<h4><strong>Filtragem de Dados</strong></h4>"
   ]
  },
  {
   "cell_type": "code",
   "execution_count": null,
   "metadata": {},
   "outputs": [],
   "source": [
    "class_count = decks['deck_class'].value_counts()\n",
    "rating_count = decks['rating'].value_counts()\n",
    "deck_type_count = decks['deck_type'].value_counts()\n",
    "title_count = decks['title'].value_counts()\n",
    "card_col = ['card_' + str(i) for i in range(30)]\n",
    "\n",
    "filter_decks_2017 = decks['year'] == 2017\n",
    "filter_decks_2016 = decks['year'] == 2016\n",
    "filter_decks_2015 = decks['year'] == 2015\n",
    "filter_decks_2014 = decks['year'] == 2014\n",
    "filter_decks_2013 = decks['year'] == 2013\n",
    "year_count = decks['year'].value_counts()\n",
    "\n",
    "filter_mage_decks = decks['deck_class'] == 'Mage' \n",
    "filter_priest_decks = decks['deck_class'] == 'Priest' \n",
    "filter_paladin_decks = decks['deck_class'] ==  'Paladin' \n",
    "filter_warlock_decks = decks['deck_class'] == 'Warlock' \n",
    "filter_druid_decks = decks['deck_class'] == 'Druid' \n",
    "filter_shaman_decks = decks['deck_class'] == 'Shaman'\n",
    "filter_warrior_decks = decks['deck_class'] == 'Warrior'\n",
    "filter_rogue_decks = decks['deck_class'] ==  'Rogue' \n",
    "filter_hunter_decks = decks['deck_class'] == 'Hunter' \n",
    "filter_wild = decks['deck_format'] == 'W'\n",
    "filter_standard = decks['deck_format'] == 'S'\n",
    "\n",
    "filter_mage_standard_decks = filter_standard & filter_mage_decks\n",
    "filter_mage_wild_decks = filter_wild & filter_mage_decks\n",
    "filter_priest_standard_decks = filter_standard & filter_priest_decks\n",
    "filter_priest_wild_decks = filter_wild & filter_priest_decks\n",
    "filter_paladin_standard_decks = filter_standard & filter_paladin_decks\n",
    "filter_paladin_wild_decks = filter_wild & filter_paladin_decks\n",
    "filter_warlock_standard_decks = filter_standard & filter_warlock_decks\n",
    "filter_warlock_wild_decks = filter_wild & filter_warlock_decks\n",
    "filter_druid_standard_decks = filter_standard & filter_druid_decks\n",
    "filter_druid_wild_decks = filter_wild & filter_druid_decks\n",
    "filter_shaman_standard_decks = filter_standard & filter_shaman_decks\n",
    "filter_shaman_wild_decks = filter_wild & filter_shaman_decks\n",
    "filter_warrior_standard_decks = filter_standard & filter_warrior_decks\n",
    "filter_warrior_wild_decks = filter_wild & filter_warrior_decks\n",
    "filter_rogue_standard_decks = filter_standard & filter_rogue_decks\n",
    "filter_rogue_wild_decks = filter_wild & filter_rogue_decks\n",
    "filter_hunter_standard_decks = filter_standard & filter_hunter_decks\n",
    "filter_hunter_wild_decks = filter_wild & filter_hunter_decks\n",
    "\n",
    "card_types_count = card_info['type'].value_counts()\n",
    "filter_monster_cards = card_info['type'] == 'MINION'\n",
    "filter_spell_cards = card_info['type'] == 'SPELL'\n",
    "filter_enchantment_cards = card_info['type'] == 'ENCHANTMENT'\n",
    "filter_hero_power = card_info['type'] == 'HERO_POWER'\n",
    "filter_hero = card_info['type'] == 'HERO'\n",
    "filter_weapon = card_info['type'] == 'WEAPON'\n",
    "\n",
    "monster_cards = card_info[filter_monster_cards]\n",
    "spell_cards = card_info[filter_monster_cards]\n",
    "enchantment_cards = card_info[filter_enchantment_cards]\n",
    "hero_power_cards = card_info[filter_hero_power]\n",
    "hero_cards = card_info[filter_hero]\n",
    "weapon_cards = card_info[filter_weapon]\n",
    "\n",
    "monster_cards = monster_cards.dropna(subset=['collectible'])\n"
   ]
  },
  {
   "cell_type": "markdown",
   "metadata": {},
   "source": [
    "<h4><strong>Análise Exploratória dos Dados</strong></h4>"
   ]
  },
  {
   "cell_type": "markdown",
   "metadata": {},
   "source": [
    "<h5>Histograma</h5>\n",
    "\n",
    "Média - Desvio Padrão\n",
    "Desvio ++ = maior largura da curva\n",
    "Desvio -- = menor largura da curva\n"
   ]
  },
  {
   "cell_type": "code",
   "execution_count": null,
   "metadata": {
    "scrolled": false
   },
   "outputs": [],
   "source": [
    "plt.hist(decks[filter_mage_decks].craft_cost, color= \"blue\", histtype=\"bar\")\n",
    "plt.title(\"Custo do Baralho (Mage)\")\n",
    "plt.xlabel(\"Custo (Dust)\")\n",
    "plt.ylabel(\"Ocorrências\")\n",
    "plt.savefig(\"graphs/cost/dust_mage.png\",dpi=300)\n",
    "plt.show()\n",
    "\n",
    "plt.hist(decks[filter_priest_decks].craft_cost, color= \"magenta\", histtype=\"bar\")\n",
    "plt.title(\"Custo do Baralho (Priest)\")\n",
    "plt.xlabel(\"Custo (Dust)\")\n",
    "plt.ylabel(\"Ocorrências\")\n",
    "plt.savefig(\"graphs/cost/dust_priest.png\",dpi=300)\n",
    "plt.show()\n",
    "\n",
    "plt.hist(decks[filter_paladin_decks].craft_cost, color= \"yellow\", histtype=\"bar\")\n",
    "plt.title(\"Custo do Baralho (Paladin)\")\n",
    "plt.xlabel(\"Custo (Dust)\")\n",
    "plt.ylabel(\"Ocorrências\")\n",
    "plt.savefig(\"graphs/cost/dust_paladin.png\",dpi=300)\n",
    "plt.show()\n",
    "\n",
    "plt.hist(decks[filter_warlock_decks].craft_cost, color= \"#554c70\", histtype=\"bar\")\n",
    "plt.title(\"Custo do Baralho (Warlock)\")\n",
    "plt.xlabel(\"Custo (Dust)\")\n",
    "plt.ylabel(\"Ocorrências\")\n",
    "plt.savefig(\"graphs/cost/dust_warlock.png\",dpi=300)\n",
    "plt.show()\n",
    "\n",
    "plt.hist(decks[filter_druid_decks].craft_cost, color= \"cyan\", histtype=\"bar\")\n",
    "plt.title(\"Custo do Baralho (Druid)\")\n",
    "plt.xlabel(\"Custo (Dust)\")\n",
    "plt.ylabel(\"Ocorrências\")\n",
    "plt.savefig(\"graphs/cost/dust_druid.png\",dpi=300)\n",
    "plt.show()\n",
    "\n",
    "plt.hist(decks[filter_shaman_decks].craft_cost, color= \"purple\", histtype=\"bar\")\n",
    "plt.title(\"Custo do Baralho (Shaman)\")\n",
    "plt.xlabel(\"Custo (Dust)\")\n",
    "plt.ylabel(\"Ocorrências\")\n",
    "plt.savefig(\"graphs/cost/dust_druid.png\",dpi=300)\n",
    "plt.show()\n",
    "\n",
    "plt.hist(decks[filter_warrior_decks].craft_cost, color= \"red\", histtype=\"bar\")\n",
    "plt.title(\"Custo do Baralho (Warrior)\")\n",
    "plt.xlabel(\"Custo (Dust)\")\n",
    "plt.ylabel(\"Ocorrências\")\n",
    "plt.savefig(\"graphs/cost/dust_warrior.png\",dpi=300)\n",
    "plt.show()\n",
    "\n",
    "plt.hist(decks[filter_rogue_decks].craft_cost, color= \"gray\", histtype=\"bar\")\n",
    "plt.title(\"Custo do Baralho (Rogue)\")\n",
    "plt.xlabel(\"Custo (Dust)\")\n",
    "plt.ylabel(\"Ocorrências\")\n",
    "plt.savefig(\"graphs/cost/dust_rogue.png\",dpi=300)\n",
    "plt.show()\n",
    "\n",
    "plt.hist(decks[filter_hunter_decks].craft_cost, color= \"green\", histtype=\"bar\")\n",
    "plt.title(\"Custo do Baralho (Hunter)\")\n",
    "plt.xlabel(\"Custo (Dust)\")\n",
    "plt.ylabel(\"Ocorrências\")\n",
    "plt.savefig(\"graphs/cost/dust_hunter.png\",dpi=300)\n",
    "plt.show()\n"
   ]
  },
  {
   "cell_type": "code",
   "execution_count": null,
   "metadata": {},
   "outputs": [],
   "source": [
    "plt.hist(monster_cards.health, color= \"green\", histtype=\"bar\")\n",
    "plt.title(\"HP dos Minios\")\n",
    "plt.xlabel(\"HP\")\n",
    "plt.ylabel(\"Ocorrências\")\n",
    "plt.savefig(\"graphs/hist/cards_heath.png\",dpi=300)\n",
    "plt.show()\n",
    "\n",
    "plt.hist(monster_cards.attack, color= \"red\", histtype=\"bar\")\n",
    "plt.title(\"Ataque dos Minios\")\n",
    "plt.xlabel(\"ATK\")\n",
    "plt.ylabel(\"Ocorrências\")\n",
    "plt.savefig(\"graphs/hist/cards_attack.png\",dpi=300)\n",
    "plt.show()\n",
    "\n",
    "plt.hist(monster_cards.cost, color= \"blue\", histtype=\"bar\")\n",
    "plt.title(\"Custo dos Minios\")\n",
    "plt.xlabel(\"Custo (Mana)\")\n",
    "plt.ylabel(\"Ocorrências\")\n",
    "plt.savefig(\"graphs/hist/cards_cost.png\",dpi=300)\n",
    "plt.show()"
   ]
  },
  {
   "cell_type": "code",
   "execution_count": null,
   "metadata": {},
   "outputs": [],
   "source": [
    "plt.hist(decks.date, color= \"gray\", histtype=\"bar\")\n",
    "plt.title(\"Ano do Baralho\")\n",
    "plt.xlabel(\"Ano\")\n",
    "plt.ylabel(\"Ocorrências\")\n",
    "plt.savefig(\"graphs/hist/decks_year.png\",dpi=300)\n",
    "plt.show()"
   ]
  },
  {
   "cell_type": "markdown",
   "metadata": {},
   "source": [
    "<h4><strong>Gráfico de Barras</strong></h4>"
   ]
  },
  {
   "cell_type": "code",
   "execution_count": null,
   "metadata": {},
   "outputs": [],
   "source": [
    "card_types_count.plot.bar(title='Tipos de Cartas', legend=None)\n",
    "plt.savefig(\"graphs/misc/card_types.png\", dpi=300)\n",
    "plt.show()"
   ]
  },
  {
   "cell_type": "code",
   "execution_count": 3,
   "metadata": {},
   "outputs": [
    {
     "ename": "NameError",
     "evalue": "name 'decks' is not defined",
     "output_type": "error",
     "traceback": [
      "\u001b[0;31m---------------------------------------------------------------------------\u001b[0m",
      "\u001b[0;31mNameError\u001b[0m                                 Traceback (most recent call last)",
      "\u001b[0;32m<ipython-input-3-c22f9f1a9615>\u001b[0m in \u001b[0;36m<module>\u001b[0;34m\u001b[0m\n\u001b[1;32m      1\u001b[0m \u001b[0mcartas\u001b[0m \u001b[0;34m=\u001b[0m \u001b[0;34m[\u001b[0m\u001b[0;34m]\u001b[0m\u001b[0;34m\u001b[0m\u001b[0m\n\u001b[1;32m      2\u001b[0m \u001b[0;32mfor\u001b[0m \u001b[0mf\u001b[0m \u001b[0;32min\u001b[0m \u001b[0mrange\u001b[0m\u001b[0;34m(\u001b[0m\u001b[0;36m30\u001b[0m\u001b[0;34m)\u001b[0m\u001b[0;34m:\u001b[0m\u001b[0;34m\u001b[0m\u001b[0m\n\u001b[0;32m----> 3\u001b[0;31m      \u001b[0mcartas\u001b[0m\u001b[0;34m.\u001b[0m\u001b[0mextend\u001b[0m\u001b[0;34m(\u001b[0m\u001b[0mdecks\u001b[0m\u001b[0;34m[\u001b[0m\u001b[0;34m'card_'\u001b[0m\u001b[0;34m+\u001b[0m \u001b[0mstr\u001b[0m\u001b[0;34m(\u001b[0m\u001b[0mf\u001b[0m\u001b[0;34m)\u001b[0m\u001b[0;34m]\u001b[0m\u001b[0;34m)\u001b[0m\u001b[0;34m\u001b[0m\u001b[0m\n\u001b[0m\u001b[1;32m      4\u001b[0m \u001b[0;34m\u001b[0m\u001b[0m\n\u001b[1;32m      5\u001b[0m \u001b[0mdados\u001b[0m\u001b[0;34m=\u001b[0m \u001b[0;34m{\u001b[0m\u001b[0;34m'carta_id'\u001b[0m\u001b[0;34m:\u001b[0m \u001b[0mcartas\u001b[0m\u001b[0;34m}\u001b[0m\u001b[0;34m\u001b[0m\u001b[0m\n",
      "\u001b[0;31mNameError\u001b[0m: name 'decks' is not defined"
     ]
    }
   ],
   "source": [
    "cartas = []\n",
    "for f in range(30):\n",
    "     cartas.extend(decks['card_'+ str(f)])\n",
    "        \n",
    "dados= {'carta_id': cartas}\n",
    "cartas_comuns = pandas.DataFrame(dados)\n",
    "ccc = cartas_comuns['carta_id'].value_counts()\n",
    "ccc[:50].plot.bar(figsize = (10,10), title='Ocorrências de Cartas')\n",
    "plt.savefig(\"graphs/misc/cards_count.png\", dpi=300)\n",
    "plt.show()"
   ]
  },
  {
   "cell_type": "code",
   "execution_count": 4,
   "metadata": {},
   "outputs": [
    {
     "ename": "NameError",
     "evalue": "name 'card_info' is not defined",
     "output_type": "error",
     "traceback": [
      "\u001b[0;31m---------------------------------------------------------------------------\u001b[0m",
      "\u001b[0;31mNameError\u001b[0m                                 Traceback (most recent call last)",
      "\u001b[0;32m<ipython-input-4-bf94c131c3e2>\u001b[0m in \u001b[0;36m<module>\u001b[0;34m\u001b[0m\n\u001b[0;32m----> 1\u001b[0;31m \u001b[0mcard_sets_count\u001b[0m \u001b[0;34m=\u001b[0m \u001b[0mcard_info\u001b[0m\u001b[0;34m[\u001b[0m\u001b[0;34m'set'\u001b[0m\u001b[0;34m]\u001b[0m\u001b[0;34m.\u001b[0m\u001b[0mvalue_counts\u001b[0m\u001b[0;34m(\u001b[0m\u001b[0;34m)\u001b[0m\u001b[0;34m\u001b[0m\u001b[0m\n\u001b[0m\u001b[1;32m      2\u001b[0m \u001b[0mcard_sets_count\u001b[0m\u001b[0;34m.\u001b[0m\u001b[0mplot\u001b[0m\u001b[0;34m.\u001b[0m\u001b[0mbar\u001b[0m\u001b[0;34m(\u001b[0m\u001b[0mtitle\u001b[0m\u001b[0;34m=\u001b[0m\u001b[0;34m'Sets'\u001b[0m\u001b[0;34m,\u001b[0m \u001b[0mlegend\u001b[0m\u001b[0;34m=\u001b[0m\u001b[0;32mNone\u001b[0m\u001b[0;34m)\u001b[0m\u001b[0;34m\u001b[0m\u001b[0m\n\u001b[1;32m      3\u001b[0m \u001b[0mplt\u001b[0m\u001b[0;34m.\u001b[0m\u001b[0msavefig\u001b[0m\u001b[0;34m(\u001b[0m\u001b[0;34m\"graphs/misc/card_sets.png\"\u001b[0m\u001b[0;34m,\u001b[0m \u001b[0mdpi\u001b[0m\u001b[0;34m=\u001b[0m\u001b[0;36m300\u001b[0m\u001b[0;34m)\u001b[0m\u001b[0;34m\u001b[0m\u001b[0m\n\u001b[1;32m      4\u001b[0m \u001b[0mplt\u001b[0m\u001b[0;34m.\u001b[0m\u001b[0mshow\u001b[0m\u001b[0;34m(\u001b[0m\u001b[0;34m)\u001b[0m\u001b[0;34m\u001b[0m\u001b[0m\n",
      "\u001b[0;31mNameError\u001b[0m: name 'card_info' is not defined"
     ]
    }
   ],
   "source": [
    "card_sets_count = card_info['set'].value_counts()\n",
    "card_sets_count.plot.bar(title='Sets', legend=None)\n",
    "plt.savefig(\"graphs/misc/card_sets.png\", dpi=300)\n",
    "plt.show()\n"
   ]
  },
  {
   "cell_type": "markdown",
   "metadata": {},
   "source": [
    "<h4>Boxplot</h4>"
   ]
  },
  {
   "cell_type": "code",
   "execution_count": 5,
   "metadata": {},
   "outputs": [
    {
     "ename": "NameError",
     "evalue": "name 'monster_cards' is not defined",
     "output_type": "error",
     "traceback": [
      "\u001b[0;31m---------------------------------------------------------------------------\u001b[0m",
      "\u001b[0;31mNameError\u001b[0m                                 Traceback (most recent call last)",
      "\u001b[0;32m<ipython-input-5-29fef3da2afc>\u001b[0m in \u001b[0;36m<module>\u001b[0;34m\u001b[0m\n\u001b[0;32m----> 1\u001b[0;31m \u001b[0mbox_card_info\u001b[0m \u001b[0;34m=\u001b[0m \u001b[0mplt\u001b[0m\u001b[0;34m.\u001b[0m\u001b[0mboxplot\u001b[0m\u001b[0;34m(\u001b[0m\u001b[0;34m[\u001b[0m\u001b[0mmonster_cards\u001b[0m\u001b[0;34m[\u001b[0m\u001b[0;34m'attack'\u001b[0m\u001b[0;34m]\u001b[0m\u001b[0;34m,\u001b[0m \u001b[0mmonster_cards\u001b[0m\u001b[0;34m[\u001b[0m\u001b[0;34m'health'\u001b[0m\u001b[0;34m]\u001b[0m\u001b[0;34m]\u001b[0m\u001b[0;34m,\u001b[0m \u001b[0mlabels\u001b[0m\u001b[0;34m=\u001b[0m\u001b[0;34m[\u001b[0m\u001b[0;34m'Ataque'\u001b[0m\u001b[0;34m,\u001b[0m \u001b[0;34m'Vida'\u001b[0m\u001b[0;34m]\u001b[0m\u001b[0;34m,\u001b[0m \u001b[0mpatch_artist\u001b[0m\u001b[0;34m=\u001b[0m\u001b[0;32mTrue\u001b[0m\u001b[0;34m)\u001b[0m\u001b[0;34m\u001b[0m\u001b[0m\n\u001b[0m",
      "\u001b[0;31mNameError\u001b[0m: name 'monster_cards' is not defined"
     ]
    }
   ],
   "source": [
    "box_card_info = plt.boxplot([monster_cards['attack'], monster_cards['health']], labels=['Ataque', 'Vida'], patch_artist=True)"
   ]
  },
  {
   "cell_type": "markdown",
   "metadata": {},
   "source": [
    "<h4>Pizza</h4>"
   ]
  },
  {
   "cell_type": "code",
   "execution_count": 6,
   "metadata": {},
   "outputs": [
    {
     "ename": "NameError",
     "evalue": "name 'class_count' is not defined",
     "output_type": "error",
     "traceback": [
      "\u001b[0;31m---------------------------------------------------------------------------\u001b[0m",
      "\u001b[0;31mNameError\u001b[0m                                 Traceback (most recent call last)",
      "\u001b[0;32m<ipython-input-6-e8f544de51ff>\u001b[0m in \u001b[0;36m<module>\u001b[0;34m\u001b[0m\n\u001b[0;32m----> 1\u001b[0;31m \u001b[0mclass_count\u001b[0m\u001b[0;34m.\u001b[0m\u001b[0mplot\u001b[0m\u001b[0;34m.\u001b[0m\u001b[0mpie\u001b[0m\u001b[0;34m(\u001b[0m\u001b[0mautopct\u001b[0m\u001b[0;34m=\u001b[0m\u001b[0;34m'%.1f%%'\u001b[0m\u001b[0;34m,\u001b[0m \u001b[0mfigsize\u001b[0m\u001b[0;34m=\u001b[0m\u001b[0;34m(\u001b[0m\u001b[0;36m5\u001b[0m\u001b[0;34m,\u001b[0m\u001b[0;36m5\u001b[0m\u001b[0;34m)\u001b[0m\u001b[0;34m)\u001b[0m\u001b[0;34m\u001b[0m\u001b[0m\n\u001b[0m",
      "\u001b[0;31mNameError\u001b[0m: name 'class_count' is not defined"
     ]
    }
   ],
   "source": [
    "class_count.plot.pie(autopct='%.1f%%', figsize=(5,5))"
   ]
  },
  {
   "cell_type": "code",
   "execution_count": 7,
   "metadata": {},
   "outputs": [
    {
     "ename": "NameError",
     "evalue": "name 'card_types_count' is not defined",
     "output_type": "error",
     "traceback": [
      "\u001b[0;31m---------------------------------------------------------------------------\u001b[0m",
      "\u001b[0;31mNameError\u001b[0m                                 Traceback (most recent call last)",
      "\u001b[0;32m<ipython-input-7-246f21e17e00>\u001b[0m in \u001b[0;36m<module>\u001b[0;34m\u001b[0m\n\u001b[0;32m----> 1\u001b[0;31m \u001b[0mcard_types_count\u001b[0m\u001b[0;34m.\u001b[0m\u001b[0mplot\u001b[0m\u001b[0;34m.\u001b[0m\u001b[0mpie\u001b[0m\u001b[0;34m(\u001b[0m\u001b[0mautopct\u001b[0m\u001b[0;34m=\u001b[0m\u001b[0;34m'%.2f%%'\u001b[0m\u001b[0;34m,\u001b[0m \u001b[0mfigsize\u001b[0m\u001b[0;34m=\u001b[0m\u001b[0;34m(\u001b[0m\u001b[0;36m5\u001b[0m\u001b[0;34m,\u001b[0m\u001b[0;36m5\u001b[0m\u001b[0;34m)\u001b[0m\u001b[0;34m)\u001b[0m\u001b[0;34m\u001b[0m\u001b[0m\n\u001b[0m",
      "\u001b[0;31mNameError\u001b[0m: name 'card_types_count' is not defined"
     ]
    }
   ],
   "source": [
    "card_types_count.plot.pie(autopct='%.2f%%', figsize=(5,5))"
   ]
  },
  {
   "cell_type": "markdown",
   "metadata": {},
   "source": [
    "<h4>Bubble</h4>"
   ]
  },
  {
   "cell_type": "code",
   "execution_count": 8,
   "metadata": {},
   "outputs": [
    {
     "ename": "NameError",
     "evalue": "name 'decks' is not defined",
     "output_type": "error",
     "traceback": [
      "\u001b[0;31m---------------------------------------------------------------------------\u001b[0m",
      "\u001b[0;31mNameError\u001b[0m                                 Traceback (most recent call last)",
      "\u001b[0;32m<ipython-input-8-9f0a932bff21>\u001b[0m in \u001b[0;36m<module>\u001b[0;34m\u001b[0m\n\u001b[0;32m----> 1\u001b[0;31m \u001b[0msns\u001b[0m\u001b[0;34m.\u001b[0m\u001b[0mscatterplot\u001b[0m\u001b[0;34m(\u001b[0m\u001b[0mdecks\u001b[0m\u001b[0;34m.\u001b[0m\u001b[0mcraft_cost\u001b[0m\u001b[0;34m,\u001b[0m \u001b[0mdecks\u001b[0m\u001b[0;34m.\u001b[0m\u001b[0mrating\u001b[0m\u001b[0;34m)\u001b[0m\u001b[0;34m\u001b[0m\u001b[0m\n\u001b[0m",
      "\u001b[0;31mNameError\u001b[0m: name 'decks' is not defined"
     ]
    }
   ],
   "source": [
    "sns.scatterplot(decks.craft_cost, decks.rating)"
   ]
  },
  {
   "cell_type": "code",
   "execution_count": 9,
   "metadata": {},
   "outputs": [
    {
     "ename": "NameError",
     "evalue": "name 'monster_cards' is not defined",
     "output_type": "error",
     "traceback": [
      "\u001b[0;31m---------------------------------------------------------------------------\u001b[0m",
      "\u001b[0;31mNameError\u001b[0m                                 Traceback (most recent call last)",
      "\u001b[0;32m<ipython-input-9-ebcc7e1bdf2c>\u001b[0m in \u001b[0;36m<module>\u001b[0;34m\u001b[0m\n\u001b[0;32m----> 1\u001b[0;31m \u001b[0msns\u001b[0m\u001b[0;34m.\u001b[0m\u001b[0mscatterplot\u001b[0m\u001b[0;34m(\u001b[0m\u001b[0mmonster_cards\u001b[0m\u001b[0;34m.\u001b[0m\u001b[0mattack\u001b[0m\u001b[0;34m,\u001b[0m \u001b[0mmonster_cards\u001b[0m\u001b[0;34m.\u001b[0m\u001b[0mcost\u001b[0m\u001b[0;34m)\u001b[0m\u001b[0;34m\u001b[0m\u001b[0m\n\u001b[0m",
      "\u001b[0;31mNameError\u001b[0m: name 'monster_cards' is not defined"
     ]
    }
   ],
   "source": [
    "sns.scatterplot(monster_cards.attack, monster_cards.cost)"
   ]
  },
  {
   "cell_type": "code",
   "execution_count": 10,
   "metadata": {},
   "outputs": [
    {
     "ename": "NameError",
     "evalue": "name 'monster_cards' is not defined",
     "output_type": "error",
     "traceback": [
      "\u001b[0;31m---------------------------------------------------------------------------\u001b[0m",
      "\u001b[0;31mNameError\u001b[0m                                 Traceback (most recent call last)",
      "\u001b[0;32m<ipython-input-10-4391780cd673>\u001b[0m in \u001b[0;36m<module>\u001b[0;34m\u001b[0m\n\u001b[0;32m----> 1\u001b[0;31m \u001b[0msns\u001b[0m\u001b[0;34m.\u001b[0m\u001b[0mscatterplot\u001b[0m\u001b[0;34m(\u001b[0m\u001b[0mmonster_cards\u001b[0m\u001b[0;34m.\u001b[0m\u001b[0mhealth\u001b[0m\u001b[0;34m,\u001b[0m \u001b[0mmonster_cards\u001b[0m\u001b[0;34m.\u001b[0m\u001b[0mcost\u001b[0m\u001b[0;34m)\u001b[0m\u001b[0;34m\u001b[0m\u001b[0m\n\u001b[0m",
      "\u001b[0;31mNameError\u001b[0m: name 'monster_cards' is not defined"
     ]
    }
   ],
   "source": [
    "sns.scatterplot(monster_cards.health, monster_cards.cost)"
   ]
  },
  {
   "cell_type": "code",
   "execution_count": 11,
   "metadata": {},
   "outputs": [
    {
     "ename": "NameError",
     "evalue": "name 'monster_cards' is not defined",
     "output_type": "error",
     "traceback": [
      "\u001b[0;31m---------------------------------------------------------------------------\u001b[0m",
      "\u001b[0;31mNameError\u001b[0m                                 Traceback (most recent call last)",
      "\u001b[0;32m<ipython-input-11-ed9c5c393ac0>\u001b[0m in \u001b[0;36m<module>\u001b[0;34m\u001b[0m\n\u001b[0;32m----> 1\u001b[0;31m \u001b[0msns\u001b[0m\u001b[0;34m.\u001b[0m\u001b[0mscatterplot\u001b[0m\u001b[0;34m(\u001b[0m\u001b[0mmonster_cards\u001b[0m\u001b[0;34m.\u001b[0m\u001b[0mhealth\u001b[0m\u001b[0;34m,\u001b[0m \u001b[0mmonster_cards\u001b[0m\u001b[0;34m.\u001b[0m\u001b[0mattack\u001b[0m\u001b[0;34m)\u001b[0m\u001b[0;34m\u001b[0m\u001b[0m\n\u001b[0m",
      "\u001b[0;31mNameError\u001b[0m: name 'monster_cards' is not defined"
     ]
    }
   ],
   "source": [
    "sns.scatterplot(monster_cards.health, monster_cards.attack)"
   ]
  },
  {
   "cell_type": "markdown",
   "metadata": {},
   "source": [
    "<h4><strong>Conclusão</strong></h4>\n",
    "       <br> É possivel integrar o Python com frameworks para Web (como Django ou Flask) e com outras linguagens (como Javascript), o que aumenta as possibilidades de desenvolvimento. Além disso, existem diversas bibliotecas disponíveis para análise de dados. Este pacote inclui diversas utilidades, entre elas o Pandas, Numpy, Holoviews. Além disso, por ser mais antigo, Python é mais robusto e menos propenso a mudanças drásticas. \n",
    "    <br>  Python é uma linguagem de propósito geral bem estabelecida, ao contrário do R que é uma linguagem mais especializada e do Júlia que é uma linguagem relativamente nova, sendo assim a experiência adiquirida terá um maior potêncial de uso em aplicações futuras, seja em outros trabalhos ou no mercado.\n",
    "    <br> Apesar da deficiência do Python para programação paralela, acreditamos que a facilidade de codificar usando a linguagem trará uma vantagem mais significativa do que tempo de execução e mais liberdade para focar na análise dos dados, sem se preocupar com aprender as nuances de uma nova linguagem.\n",
    "    <br> Existem também uma biblioteca para rodar códico R em python caso alguma funcionalidade específica do R seja necessária."
   ]
  },
  {
   "cell_type": "markdown",
   "metadata": {},
   "source": [
    "# Referências:\n",
    "\n",
    "<h4>League of Legends - Competitive Matches, 2015 to 2018</h4>\n",
    "(https://www.kaggle.com/chuckephron/leagueoflegends)\n",
    "\n",
    "<br>https://www.python.org\n",
    "<br>Python for Data Analysis: Data Wrangling with Pandas, NumPy, and IPython Por Wes McKinney\n",
    "<br>https://books.google.com.br/books?hl=pt-BR&lr=&id=v3n4_AK8vu0C&oi=fnd&pg=PR3&dq=python+for+data+analysis&ots=rgJL4hyrqx&sig=v6onow7Ag9Qs4S11awiGeHLpSd4#v=onepage&q&f=false\n",
    "<br>http://www.cienciaedados.com/por-que-cientistas-de-dados-escolhem-python/\n",
    "<br>https://www.cbtnuggets.com/blog/technology/data/why-data-scientists-love-python    \n",
    "https://hackncast.org/v06-python\n",
    "<br>https://minerandodados.com.br/por-que-o-python-e-a-linguagem-mais-adotada-na-area-de-data-science/\n",
    "<br>Wes McKinney Python for Data Analysis: Data Wrangling with Pandas, NumPy, and IPython (2012)\n",
    "<br>https://cio.com.br/julia-vs-python-qual-e-a-melhor-para-a-ciencia-de-dados/\n",
    "<br>http://datascienceacademy.com.br/blog/top-20-bibliotecas-python-para-data-science/\n"
   ]
  },
  {
   "cell_type": "code",
   "execution_count": 17,
   "metadata": {
    "scrolled": true
   },
   "outputs": [],
   "source": [
    "\n",
    "#url = \"https://...\"\n",
    "#s= requests.get(url).content #Puxa uma url da rede \n",
    "#c= pd.read_csv(io.StringIO(s.decode('utf-8'))) #Puxa um dataset da url\n",
    "\n",
    "#FICO BUNITO MAIS DEU BOSTA\n",
    "#for x in arquivos:\n",
    "#    dataset = pandas.read_csv('/home/' + str(user) + '/Downloads/datasets/' + str(x))\n",
    "#    lista_temp = {\n",
    "#    \n",
    "#        'nome': x,\n",
    "#        'dataset': dataset,\n",
    "#    }\n",
    "#    lista_datasets.append(lista_temp)\n",
    "\n",
    "# print(league_of_legends) \n",
    "# league = league_of_legends[[\"League\", \"bResult\"]] #Dois Colchetes = Selecionar linhas e colunas de um único dataset\n",
    "# print(league)\n",
    "#league_of_legends.loc[0] # Seleciona uma Linha do dataset\n",
    "# league_of_legends.iloc[0] # Seleciona uma Linha do dataset\n",
    "# league_of_legends.loc[[0]] # Seleciona uma Linha do dataset\n",
    "# league_of_legends.iloc[[0]] # Seleciona uma Linha do dataset\n",
    "\n",
    "# league_of_legends_nalcs_btag = league\n",
    "# league_nalcs_2015 = league_nalcs and league_2015\n",
    "# # print(league_nalcs)\n",
    "# print(league_of_legends[league_nalcs_2015])"
   ]
  },
  {
   "cell_type": "code",
   "execution_count": null,
   "metadata": {},
   "outputs": [],
   "source": [
    "# x = numpy.linspace(0, 2, 100)\n",
    "\n",
    "# plt.plot(x, x, label='linear')\n",
    "# plt.plot(x, x**2, label='quadratic')\n",
    "# plt.plot(x, x**3, label='cubic')\n",
    "# plt.xlabel('x label')\n",
    "# plt.ylabel('y label')\n",
    "# plt.title(\"Simple Plot\")\n",
    "# plt.legend()\n",
    "# plt.show()\n"
   ]
  },
  {
   "cell_type": "code",
   "execution_count": null,
   "metadata": {},
   "outputs": [],
   "source": [
    "# lista = []\n",
    "# lista_temp = {}\n",
    "# for x in range(0,(len(data))):\n",
    "#     for i in range(0,1):\n",
    "#         lista_temp = (data.get_value(x, 'card_' + str(i)))\n",
    "#     lista.append(lista_temp)\n",
    "# print('cabei')\n",
    "\n",
    "\n",
    "# for x in range(len(data)):\n",
    "#     list_temp = {\n",
    "#         'card'+str(0) : data.at[x, 'card_'+str(0)],\n",
    "#         'card'+str(1) : cards.at[x, 'card_'+str(1)],\n",
    "#         'card'+str(2) : cards.at[x, 'card_'+str(2)],\n",
    "#         'card'+str(3) : cards.at[x, 'card_'+str(3)],\n",
    "#         'card'+str(4) : cards.at[x, 'card_'+str(4)],\n",
    "#         'card'+str(5) : cards.at[x, 'card_'+str(5)],\n",
    "#         'card'+str(6) : cards.at[x, 'card_'+str(6)],\n",
    "#         'card'+str(7) : cards.at[x, 'card_'+str(7)],\n",
    "#         'card'+str(8) : cards.at[x, 'card_'+str(8)],\n",
    "#         'card'+str(9) : cards.at[x, 'card_'+str(9)],\n",
    "#         'card'+str(10) : cards.at[x, 'card_'+str(10)],\n",
    "#         'card'+str(11) : cards.at[x, 'card_'+str(11)],\n",
    "#         'card'+str(12) : cards.at[x, 'card_'+str(12)],\n",
    "#         'card'+str(13) : cards.at[x, 'card_'+str(13)],\n",
    "#         'card'+str(14) : cards.at[x, 'card_'+str(14)],\n",
    "#         'card'+str(15) : cards.at[x, 'card_'+str(15)],\n",
    "#         'card'+str(16) : cards.at[x, 'card_'+str(16)],\n",
    "#         'card'+str(17) : cards.at[x, 'card_'+str(17)],\n",
    "#         'card'+str(18) : cards.at[x, 'card_'+str(18)],    \n",
    "#         'card'+str(19) : cards.at[x, 'card_'+str(19)],\n",
    "#         'card'+str(20) : cards.at[x, 'card_'+str(20)],\n",
    "#         'card'+str(21) : cards.at[x, 'card_'+str(21)],\n",
    "#         'card'+str(22) : cards.at[x, 'card_'+str(22)],    \n",
    "#         'card'+str(23) : cards.at[x, 'card_'+str(23)],\n",
    "#         'card'+str(24) : cards.at[x, 'card_'+str(24)],\n",
    "#         'card'+str(25) : cards.at[x, 'card_'+str(25)],\n",
    "#         'card'+str(26) : cards.at[x, 'card_'+str(26)],\n",
    "#         'card'+str(27) : cards.at[x, 'card_'+str(27)],\n",
    "#         'card'+str(28) : cards.at[x, 'card_'+str(28)],\n",
    "#         'card'+str(29) : cards.at[x, 'card_'+str(29)],\n",
    "#     }\n",
    "#     decks.append(list_temp)   \n",
    "\n",
    "# import math\n",
    "# \n",
    "# lista_temp = []\n",
    "# lista = []\n",
    "# for x in range(0,(math.trunc(len(data)/100))):\n",
    "#     for i in range(0,30):\n",
    "#         lista_temp.append(data.get_value(x, 'card_' + str(i)))\n",
    "#     lista.append(lista_temp)\n",
    "# print(lista)"
   ]
  }
 ],
 "metadata": {
  "kernelspec": {
   "display_name": "Python 3",
   "language": "python",
   "name": "python3"
  },
  "language_info": {
   "codemirror_mode": {
    "name": "ipython",
    "version": 3
   },
   "file_extension": ".py",
   "mimetype": "text/x-python",
   "name": "python",
   "nbconvert_exporter": "python",
   "pygments_lexer": "ipython3",
   "version": "3.5.3"
  }
 },
 "nbformat": 4,
 "nbformat_minor": 2
}
