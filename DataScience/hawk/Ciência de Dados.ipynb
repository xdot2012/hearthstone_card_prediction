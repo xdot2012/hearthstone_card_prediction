{
 "cells": [
  {
   "cell_type": "markdown",
   "metadata": {},
   "source": [
    "# Trabalho Ciência de dados"
   ]
  },
  {
   "cell_type": "markdown",
   "metadata": {},
   "source": [
    "<h4>Grupo:</h4>\n",
    "<p>\n",
    "    <br>Christopher Martins\n",
    "    <br>Daniel Lopes\n",
    "    <br>Douglas Gonçalves Sales\n",
    "</p>"
   ]
  },
  {
   "cell_type": "markdown",
   "metadata": {},
   "source": [
    "# Sobre a Linguagem\n",
    "\n",
    " O Python é uma linguagem interpretada de alto nível e foi escolhida pelo mérito acumulado ao longo de 28 anos de desenvolvimento.\n",
    "\n",
    "<h4><strong>Facilidade de Aprendizado e de Uso:</strong></h4>\n",
    "    <br>Python é uma linguagem de alto nível e de fácil aprendizado. Com isso, podemos começar a analisar os dados sem perder tempo descobrindo particularides da linguagem. De acordo com Stackoverflow, de 2018, o Python é a linguagem de programação mais popular do mundo, e é considerada uma linguagem para iniciantes, onde qualquer pessoa que possua um conhecimento básico de programação consegue utiliza-la.   \n",
    "    \n",
    "<h4><strong>Grande Comunidade:</strong></h4>\n",
    "    <br>A linguagem é amplamente utilizada para ciência de dados, e possui uma comunidade expecialista e colaborativa. O problema que um utilizador novato de Python vivencia, provavelmente já foi resolvido por um outro usuário mais experiente.  \n",
    "    \n",
    "<h4><strong>Grande Número de Bibliotecas e Frameworks:</strong></h4> \n",
    "    <br>A linguagem Python possui uma enorme variablidade de bibliotecas, desde a mais básicas como expressões regulares até inteligência artificial e aprendizado ao homem máquina, conexões HTTP seguras, processamento de XML e HTML, bancos de dados, net scraping, etc.  \n",
    "\n",
    "<h4><strong>Atualizada Constantemente:</strong></h4>\n",
    "    <br>Python é uma linguagem em desenvolvimento, constantemente atualizada. Muitos dos problemas vivenciados a pouco tempo atrás já não existem mais, e os problemas que existem hoje podem não existirão mais daqui a algum tempo.\n",
    "\n",
    "<h4><strong>Popularidade no Mercado:</strong></h4>\n",
    "   <br>Desde seu lançamento em 1991, Python têm evoluido para se tornar uma das linguagens de programação mais dinâmicas e populares no mercado visto que é extremamente versátil. eSeu uso se extende desde análise de dados até aplicações web e aprendizagem de máquina.\n",
    "       "
   ]
  },
  {
   "cell_type": "markdown",
   "metadata": {},
   "source": [
    "# Dataset"
   ]
  },
  {
   "cell_type": "markdown",
   "metadata": {},
   "source": [
    "# Pandas e NumPy\n",
    "\n",
    "Duas das bibliotecas mais usadas para análise de dados são o Pandas e o NumPy, de acordo com datascienceacademy. Ambos serão utilizados neste trabalho.\n",
    "Pandas é uma biblioteca Python para análises de dados que, de acordo com a documentação oficial, é de alta performance e de fácil utilização. Entre suas funcionalidades a mais comum é a de importação de arquivos CSV através do comando pandas.read_csv() que gera um arquivo do tipo \"DataFrame\", que pode então ser análisado e editado.\n"
   ]
  },
  {
   "cell_type": "markdown",
   "metadata": {},
   "source": [
    "# PRECISAMOS EDITAR\n",
    "Arquivos no Dataset:\n",
    "\n",
    "1- Columns.cvs\n",
    "Lista e descreve as Colunas do arquivo League of Legends.csv\n",
    "\n",
    "2- bans.csv\n",
    "Lista os nomes dos campeões que foram banidos em cada partida, em qual ordem (ban_1~ban_5) e se foram escolhidos pelo time azul ou vermelho (Team).\n",
    "\n",
    "3- gold.csv\n",
    "Estatísticas de recolhimento de ouro de cada time (Type) ao longo do tempo (min_1 ~ min_95).\n",
    "\n",
    "4- kills.csv\n",
    "Lista dos jogadores que mataram, foram mortos ou deram assistência (Team, Killer, Victim, Assist_1 ~ Assist_4), em que posição do mapa (x_pos, y_pos) e em que tempo do jogo isso aconteceu (Time).\n",
    "\n",
    "5- LeagueofLegends.csv \n",
    "Lista qual o tipo do jogo e campeonato e em qual ano, em qual temporada (League, Year, Season, Type) , as equipes que participaram (TeamTags), o resultado da partida (Results). A duração da partida (gamelenght). Demonstra a diferença em ouro entre as equipes, as mortes dos personagens, quais e quando os objetivos foram alcançados. Os jogos ainda possuem um link para o site do jogo, onde são listadas ainda mais informações sobre a partida.\n",
    "\n",
    "6- matchinfo.csv\n",
    "Contém Informações reduntantes (League, Year, Season, Type) e também sobre os jogadores e campeões escolhidos para cada time (28 Colunas).\n",
    "\n",
    "7- monsters.csv\n",
    "Lista de quando (Time) o time Vermelho ou Azu (Team)l derrotaram o Dragão ou o Barão nashor (Type).\n",
    "\n",
    "8- structures.csv\n",
    "Lista de estruturas destruídas por cada time (Team, Lane, Type) em cada momento do jogo(Time).\n"
   ]
  },
  {
   "cell_type": "markdown",
   "metadata": {},
   "source": [
    "<h4><strong>Arquivos do Dataset</strong></h4>"
   ]
  },
  {
   "cell_type": "code",
   "execution_count": 7,
   "metadata": {},
   "outputs": [
    {
     "data": {
      "text/plain": [
       "['refs.json', 'data.csv']"
      ]
     },
     "execution_count": 7,
     "metadata": {},
     "output_type": "execute_result"
    }
   ],
   "source": [
    "import getpass, os, pandas, requests, math\n",
    "\n",
    "user = getpass.getuser()\n",
    "path = str(\"/home/\" + str(user) + \"/datasets/\")\n",
    "os.listdir(path)\n"
   ]
  },
  {
   "cell_type": "markdown",
   "metadata": {},
   "source": [
    "<h4><strong>Importação</strong></h4>"
   ]
  },
  {
   "cell_type": "code",
   "execution_count": 9,
   "metadata": {},
   "outputs": [
    {
     "name": "stdout",
     "output_type": "stream",
     "text": [
      "Index(['craft_cost', 'date', 'deck_archetype', 'deck_class', 'deck_format',\n",
      "       'deck_id', 'deck_set', 'deck_type', 'rating', 'title', 'user', 'card_0',\n",
      "       'card_1', 'card_2', 'card_3', 'card_4', 'card_5', 'card_6', 'card_7',\n",
      "       'card_8', 'card_9', 'card_10', 'card_11', 'card_12', 'card_13',\n",
      "       'card_14', 'card_15', 'card_16', 'card_17', 'card_18', 'card_19',\n",
      "       'card_20', 'card_21', 'card_22', 'card_23', 'card_24', 'card_25',\n",
      "       'card_26', 'card_27', 'card_28', 'card_29'],\n",
      "      dtype='object')\n"
     ]
    }
   ],
   "source": [
    "data = pandas.read_csv(path + str(\"data.csv\"))\n",
    "refs = pandas.read_json(path + str(\"refs.json\"))\n",
    "\n",
    "class_count = data['deck_class'].value_counts()\n",
    "rating_count = data['rating'].value_counts()\n",
    "deck_type_count = data['deck_type'].value_counts()\n",
    "title_count = data['title'].value_counts()\n",
    "decks_year = data['date'].str.slice(0,4)\n",
    "len(data['deck_archetype'].value_counts())\n",
    "\n",
    "print(data.columns)"
   ]
  },
  {
   "cell_type": "markdown",
   "metadata": {},
   "source": [
    "<h4><strong>Limpeza dos Dados</strong></h4>"
   ]
  },
  {
   "cell_type": "code",
   "execution_count": null,
   "metadata": {},
   "outputs": [],
   "source": []
  },
  {
   "cell_type": "markdown",
   "metadata": {},
   "source": [
    "<h4><strong>Filtragem de Dados</strong></h4>"
   ]
  },
  {
   "cell_type": "code",
   "execution_count": 10,
   "metadata": {},
   "outputs": [],
   "source": [
    "class_dict = {\n",
    "    'magenta':'Priest',\n",
    "    'yellow':'Paladin' ,\n",
    "    'blue':'Mage',\n",
    "    'red':'Warrior',\n",
    "    '#554c70':'Warlock',\n",
    "    'purple':'Shaman',\n",
    "    'cyan':'Druid',\n",
    "    'gray':'Rogue',\n",
    "    'green':'Hunter',\n",
    "}"
   ]
  },
  {
   "cell_type": "code",
   "execution_count": 11,
   "metadata": {},
   "outputs": [],
   "source": [
    "ranked_filter = data['deck_type'] == 'Ranked Deck'\n",
    "data = data[ranked_filter]\n",
    "\n",
    "filter_decks_2017 = decks_year == '2017'\n",
    "filter_decks_2016 = decks_year == '2016'\n",
    "filter_decks_2015 = decks_year == '2015'\n",
    "filter_decks_2014 = decks_year == '2014'\n",
    "filter_decks_2013 = decks_year == '2013'\n",
    "\n",
    "filter_mage_decks = data['deck_class'] == 'Mage' # blue\n",
    "filter_priest_decks = data['deck_class'] == 'Priest' # magenta\n",
    "filter_paladin_decks = data['deck_class'] ==  'Paladin' # yellow\n",
    "filter_warlock_decks = data['deck_class'] == 'Warlock' # black\n",
    "filter_druid_decks = data['deck_class'] == 'Druid' # cyan\n",
    "filter_shaman_decks = data['deck_class'] == 'Shaman' # purple\n",
    "filter_warrior_decks = data['deck_class'] == 'Warrior' # red\n",
    "filter_rogue_decks = data['deck_class'] ==  'Rogue' # gray\n",
    "filter_hunter_decks = data['deck_class'] == 'Hunter' # green\n",
    "filter_wild = data['deck_format'] == 'W'\n",
    "filter_standard = data['deck_format'] == 'S'\n",
    "\n",
    "filter_mage_standard_decks = filter_standard & filter_mage_decks \n",
    "filter_mage_wild_decks = filter_wild & filter_mage_decks \n",
    "filter_priest_standard_decks = filter_standard & filter_priest_decks \n",
    "filter_priest_wild_decks = filter_wild & filter_priest_decks \n",
    "filter_paladin_standard_decks = filter_standard & filter_paladin_decks \n",
    "filter_paladin_wild_decks = filter_wild & filter_paladin_decks \n",
    "filter_warlock_standard_decks = filter_standard & filter_warlock_decks \n",
    "filter_warlock_wild_decks = filter_wild & filter_warlock_decks \n",
    "filter_druid_standard_decks = filter_standard & filter_druid_decks \n",
    "filter_druid_wild_decks = filter_wild & filter_druid_decks \n",
    "filter_shaman_standard_decks = filter_standard & filter_shaman_decks \n",
    "filter_shaman_wild_decks = filter_wild & filter_shaman_decks \n",
    "filter_warrior_standard_decks = filter_standard & filter_warrior_decks \n",
    "filter_warrior_wild_decks = filter_wild & filter_warrior_decks \n",
    "filter_rogue_standard_decks = filter_standard & filter_rogue_decks \n",
    "filter_rogue_wild_decks = filter_wild & filter_rogue_decks\n",
    "filter_hunter_standard_decks = filter_standard & filter_hunter_decks \n",
    "filter_hunter_wild_decks = filter_wild & filter_hunter_decks \n",
    "\n",
    "\n",
    "\n",
    "# lista = []\n",
    "# for i in refs.type:\n",
    "#     lista.append(i)\n",
    "# lista = list( dict.fromkeys(lista) )\n",
    "# print(lista)\n",
    "# card_col = ['card_' + str(i) for i in range(30)]\n",
    "\n",
    "\n"
   ]
  },
  {
   "cell_type": "code",
   "execution_count": 12,
   "metadata": {},
   "outputs": [],
   "source": [
    "# lista = []\n",
    "# lista_temp = {}\n",
    "# for x in range(0,(len(data))):\n",
    "#     for i in range(0,1):\n",
    "#         lista_temp = (data.get_value(x, 'card_' + str(i)))\n",
    "#     lista.append(lista_temp)\n",
    "# print('cabei')\n"
   ]
  },
  {
   "cell_type": "code",
   "execution_count": null,
   "metadata": {},
   "outputs": [],
   "source": []
  },
  {
   "cell_type": "markdown",
   "metadata": {},
   "source": [
    "<h4><strong>Análise Exploratória dos Dados</strong></h4>"
   ]
  },
  {
   "cell_type": "code",
   "execution_count": 13,
   "metadata": {},
   "outputs": [],
   "source": [
    "# import math\n",
    "# \n",
    "# lista_temp = []\n",
    "# lista = []\n",
    "# for x in range(0,(math.trunc(len(data)/100))):\n",
    "#     for i in range(0,30):\n",
    "#         lista_temp.append(data.get_value(x, 'card_' + str(i)))\n",
    "#     lista.append(lista_temp)\n",
    "# print(lista)"
   ]
  },
  {
   "cell_type": "markdown",
   "metadata": {},
   "source": [
    "<h5>Histograma</h5>\n",
    "\n",
    "Média - Desvio Padrão\n",
    "Desvio ++ = maior largura da curva\n",
    "Desvio -- = menor largura da curva\n"
   ]
  },
  {
   "cell_type": "code",
   "execution_count": 14,
   "metadata": {},
   "outputs": [
    {
     "data": {
      "text/plain": [
       "<Figure size 640x480 with 1 Axes>"
      ]
     },
     "metadata": {},
     "output_type": "display_data"
    },
    {
     "data": {
      "text/plain": [
       "<Figure size 640x480 with 1 Axes>"
      ]
     },
     "metadata": {},
     "output_type": "display_data"
    },
    {
     "data": {
      "text/plain": [
       "<Figure size 640x480 with 1 Axes>"
      ]
     },
     "metadata": {},
     "output_type": "display_data"
    },
    {
     "data": {
      "text/plain": [
       "<Figure size 640x480 with 1 Axes>"
      ]
     },
     "metadata": {},
     "output_type": "display_data"
    },
    {
     "data": {
      "text/plain": [
       "<Figure size 640x480 with 1 Axes>"
      ]
     },
     "metadata": {},
     "output_type": "display_data"
    },
    {
     "data": {
      "text/plain": [
       "<Figure size 640x480 with 1 Axes>"
      ]
     },
     "metadata": {},
     "output_type": "display_data"
    },
    {
     "data": {
      "text/plain": [
       "<Figure size 640x480 with 1 Axes>"
      ]
     },
     "metadata": {},
     "output_type": "display_data"
    },
    {
     "data": {
      "text/plain": [
       "<Figure size 640x480 with 1 Axes>"
      ]
     },
     "metadata": {},
     "output_type": "display_data"
    },
    {
     "data": {
      "text/plain": [
       "<Figure size 640x480 with 1 Axes>"
      ]
     },
     "metadata": {},
     "output_type": "display_data"
    }
   ],
   "source": [
    "import matplotlib.pyplot as plt\n",
    " \n",
    "#Talvez seja melhor mudar pra BoxPlot\n",
    "plt.hist(data[filter_mage_decks].craft_cost, color= \"blue\", histtype=\"bar\")\n",
    "plt.title(\"Custo do Baralho (Mage)\")\n",
    "plt.xlabel(\"Custo (Dust)\")\n",
    "plt.ylabel(\"Ocorrências\")\n",
    "plt.savefig(\"graphs/cost/dust_mage.png\",dpi=300)\n",
    "mage_plot = plt.show()\n",
    "\n",
    "plt.hist(data[filter_priest_decks].craft_cost, color= \"magenta\", histtype=\"bar\")\n",
    "plt.title(\"Custo do Baralho (Priest)\")\n",
    "plt.xlabel(\"Custo (Dust)\")\n",
    "plt.ylabel(\"Ocorrências\")\n",
    "plt.savefig(\"graphs/cost/dust_priest.png\",dpi=300)\n",
    "plt.show()\n",
    "\n",
    "plt.hist(data[filter_paladin_decks].craft_cost, color= \"yellow\", histtype=\"bar\")\n",
    "plt.title(\"Custo do Baralho (Paladin)\")\n",
    "plt.xlabel(\"Custo (Dust)\")\n",
    "plt.ylabel(\"Ocorrências\")\n",
    "plt.savefig(\"graphs/cost/dust_paladin.png\",dpi=300)\n",
    "plt.show()\n",
    "\n",
    "plt.hist(data[filter_warlock_decks].craft_cost, color= \"#554c70\", histtype=\"bar\")\n",
    "plt.title(\"Custo do Baralho (Warlock)\")\n",
    "plt.xlabel(\"Custo (Dust)\")\n",
    "plt.ylabel(\"Ocorrências\")\n",
    "plt.savefig(\"graphs/cost/dust_warlock.png\",dpi=300)\n",
    "plt.show()\n",
    "\n",
    "plt.hist(data[filter_druid_decks].craft_cost, color= \"cyan\", histtype=\"bar\")\n",
    "plt.title(\"Custo do Baralho (Druid)\")\n",
    "plt.xlabel(\"Custo (Dust)\")\n",
    "plt.ylabel(\"Ocorrências\")\n",
    "plt.savefig(\"graphs/cost/dust_druid.png\",dpi=300)\n",
    "plt.show()\n",
    "\n",
    "plt.hist(data[filter_shaman_decks].craft_cost, color= \"purple\", histtype=\"bar\")\n",
    "plt.title(\"Custo do Baralho (Shaman)\")\n",
    "plt.xlabel(\"Custo (Dust)\")\n",
    "plt.ylabel(\"Ocorrências\")\n",
    "plt.savefig(\"graphs/cost/dust_druid.png\",dpi=300)\n",
    "plt.show()\n",
    "\n",
    "plt.hist(data[filter_warrior_decks].craft_cost, color= \"red\", histtype=\"bar\")\n",
    "plt.title(\"Custo do Baralho (Warrior)\")\n",
    "plt.xlabel(\"Custo (Dust)\")\n",
    "plt.ylabel(\"Ocorrências\")\n",
    "plt.savefig(\"graphs/cost/dust_warrior.png\",dpi=300)\n",
    "plt.show()\n",
    "\n",
    "plt.hist(data[filter_rogue_decks].craft_cost, color= \"gray\", histtype=\"bar\")\n",
    "plt.title(\"Custo do Baralho (Rogue)\")\n",
    "plt.xlabel(\"Custo (Dust)\")\n",
    "plt.ylabel(\"Ocorrências\")\n",
    "plt.savefig(\"graphs/cost/dust_rogue.png\",dpi=300)\n",
    "plt.show()\n",
    "\n",
    "plt.hist(data[filter_hunter_decks].craft_cost, color= \"green\", histtype=\"bar\")\n",
    "plt.title(\"Custo do Baralho (Hunter)\")\n",
    "plt.xlabel(\"Custo (Dust)\")\n",
    "plt.ylabel(\"Ocorrências\")\n",
    "plt.savefig(\"graphs/cost/dust_hunter.png\",dpi=300)\n",
    "plt.show()\n",
    "\n"
   ]
  },
  {
   "cell_type": "code",
   "execution_count": 62,
   "metadata": {
    "scrolled": true
   },
   "outputs": [
    {
     "data": {
      "text/html": [
       "<div>\n",
       "<style scoped>\n",
       "    .dataframe tbody tr th:only-of-type {\n",
       "        vertical-align: middle;\n",
       "    }\n",
       "\n",
       "    .dataframe tbody tr th {\n",
       "        vertical-align: top;\n",
       "    }\n",
       "\n",
       "    .dataframe thead th {\n",
       "        text-align: right;\n",
       "    }\n",
       "</style>\n",
       "<table border=\"1\" class=\"dataframe\">\n",
       "  <thead>\n",
       "    <tr style=\"text-align: right;\">\n",
       "      <th></th>\n",
       "      <th>carta_id</th>\n",
       "    </tr>\n",
       "  </thead>\n",
       "  <tbody>\n",
       "    <tr>\n",
       "      <th>0</th>\n",
       "      <td>75</td>\n",
       "    </tr>\n",
       "    <tr>\n",
       "      <th>1</th>\n",
       "      <td>476</td>\n",
       "    </tr>\n",
       "    <tr>\n",
       "      <th>2</th>\n",
       "      <td>75</td>\n",
       "    </tr>\n",
       "    <tr>\n",
       "      <th>3</th>\n",
       "      <td>272</td>\n",
       "    </tr>\n",
       "    <tr>\n",
       "      <th>4</th>\n",
       "      <td>113</td>\n",
       "    </tr>\n",
       "    <tr>\n",
       "      <th>5</th>\n",
       "      <td>77</td>\n",
       "    </tr>\n",
       "    <tr>\n",
       "      <th>6</th>\n",
       "      <td>251</td>\n",
       "    </tr>\n",
       "    <tr>\n",
       "      <th>7</th>\n",
       "      <td>242</td>\n",
       "    </tr>\n",
       "    <tr>\n",
       "      <th>8</th>\n",
       "      <td>290</td>\n",
       "    </tr>\n",
       "    <tr>\n",
       "      <th>9</th>\n",
       "      <td>180</td>\n",
       "    </tr>\n",
       "    <tr>\n",
       "      <th>10</th>\n",
       "      <td>476</td>\n",
       "    </tr>\n",
       "    <tr>\n",
       "      <th>11</th>\n",
       "      <td>172</td>\n",
       "    </tr>\n",
       "    <tr>\n",
       "      <th>12</th>\n",
       "      <td>9</td>\n",
       "    </tr>\n",
       "    <tr>\n",
       "      <th>13</th>\n",
       "      <td>77</td>\n",
       "    </tr>\n",
       "    <tr>\n",
       "      <th>14</th>\n",
       "      <td>211</td>\n",
       "    </tr>\n",
       "    <tr>\n",
       "      <th>15</th>\n",
       "      <td>64</td>\n",
       "    </tr>\n",
       "    <tr>\n",
       "      <th>16</th>\n",
       "      <td>64</td>\n",
       "    </tr>\n",
       "    <tr>\n",
       "      <th>17</th>\n",
       "      <td>180</td>\n",
       "    </tr>\n",
       "    <tr>\n",
       "      <th>18</th>\n",
       "      <td>75</td>\n",
       "    </tr>\n",
       "    <tr>\n",
       "      <th>19</th>\n",
       "      <td>180</td>\n",
       "    </tr>\n",
       "    <tr>\n",
       "      <th>20</th>\n",
       "      <td>140</td>\n",
       "    </tr>\n",
       "    <tr>\n",
       "      <th>21</th>\n",
       "      <td>138</td>\n",
       "    </tr>\n",
       "    <tr>\n",
       "      <th>22</th>\n",
       "      <td>292</td>\n",
       "    </tr>\n",
       "    <tr>\n",
       "      <th>23</th>\n",
       "      <td>30</td>\n",
       "    </tr>\n",
       "    <tr>\n",
       "      <th>24</th>\n",
       "      <td>290</td>\n",
       "    </tr>\n",
       "    <tr>\n",
       "      <th>25</th>\n",
       "      <td>290</td>\n",
       "    </tr>\n",
       "    <tr>\n",
       "      <th>26</th>\n",
       "      <td>138</td>\n",
       "    </tr>\n",
       "    <tr>\n",
       "      <th>27</th>\n",
       "      <td>290</td>\n",
       "    </tr>\n",
       "    <tr>\n",
       "      <th>28</th>\n",
       "      <td>75</td>\n",
       "    </tr>\n",
       "    <tr>\n",
       "      <th>29</th>\n",
       "      <td>75</td>\n",
       "    </tr>\n",
       "    <tr>\n",
       "      <th>...</th>\n",
       "      <td>...</td>\n",
       "    </tr>\n",
       "    <tr>\n",
       "      <th>6071220</th>\n",
       "      <td>40698</td>\n",
       "    </tr>\n",
       "    <tr>\n",
       "      <th>6071221</th>\n",
       "      <td>41126</td>\n",
       "    </tr>\n",
       "    <tr>\n",
       "      <th>6071222</th>\n",
       "      <td>40437</td>\n",
       "    </tr>\n",
       "    <tr>\n",
       "      <th>6071223</th>\n",
       "      <td>40955</td>\n",
       "    </tr>\n",
       "    <tr>\n",
       "      <th>6071224</th>\n",
       "      <td>40596</td>\n",
       "    </tr>\n",
       "    <tr>\n",
       "      <th>6071225</th>\n",
       "      <td>41409</td>\n",
       "    </tr>\n",
       "    <tr>\n",
       "      <th>6071226</th>\n",
       "      <td>39941</td>\n",
       "    </tr>\n",
       "    <tr>\n",
       "      <th>6071227</th>\n",
       "      <td>38900</td>\n",
       "    </tr>\n",
       "    <tr>\n",
       "      <th>6071228</th>\n",
       "      <td>40408</td>\n",
       "    </tr>\n",
       "    <tr>\n",
       "      <th>6071229</th>\n",
       "      <td>40608</td>\n",
       "    </tr>\n",
       "    <tr>\n",
       "      <th>6071230</th>\n",
       "      <td>2770</td>\n",
       "    </tr>\n",
       "    <tr>\n",
       "      <th>6071231</th>\n",
       "      <td>38985</td>\n",
       "    </tr>\n",
       "    <tr>\n",
       "      <th>6071232</th>\n",
       "      <td>38909</td>\n",
       "    </tr>\n",
       "    <tr>\n",
       "      <th>6071233</th>\n",
       "      <td>2620</td>\n",
       "    </tr>\n",
       "    <tr>\n",
       "      <th>6071234</th>\n",
       "      <td>2951</td>\n",
       "    </tr>\n",
       "    <tr>\n",
       "      <th>6071235</th>\n",
       "      <td>38876</td>\n",
       "    </tr>\n",
       "    <tr>\n",
       "      <th>6071236</th>\n",
       "      <td>38882</td>\n",
       "    </tr>\n",
       "    <tr>\n",
       "      <th>6071237</th>\n",
       "      <td>38534</td>\n",
       "    </tr>\n",
       "    <tr>\n",
       "      <th>6071238</th>\n",
       "      <td>38263</td>\n",
       "    </tr>\n",
       "    <tr>\n",
       "      <th>6071239</th>\n",
       "      <td>38263</td>\n",
       "    </tr>\n",
       "    <tr>\n",
       "      <th>6071240</th>\n",
       "      <td>38985</td>\n",
       "    </tr>\n",
       "    <tr>\n",
       "      <th>6071241</th>\n",
       "      <td>38505</td>\n",
       "    </tr>\n",
       "    <tr>\n",
       "      <th>6071242</th>\n",
       "      <td>40408</td>\n",
       "    </tr>\n",
       "    <tr>\n",
       "      <th>6071243</th>\n",
       "      <td>38725</td>\n",
       "    </tr>\n",
       "    <tr>\n",
       "      <th>6071244</th>\n",
       "      <td>38774</td>\n",
       "    </tr>\n",
       "    <tr>\n",
       "      <th>6071245</th>\n",
       "      <td>39034</td>\n",
       "    </tr>\n",
       "    <tr>\n",
       "      <th>6071246</th>\n",
       "      <td>38734</td>\n",
       "    </tr>\n",
       "    <tr>\n",
       "      <th>6071247</th>\n",
       "      <td>2951</td>\n",
       "    </tr>\n",
       "    <tr>\n",
       "      <th>6071248</th>\n",
       "      <td>38319</td>\n",
       "    </tr>\n",
       "    <tr>\n",
       "      <th>6071249</th>\n",
       "      <td>2895</td>\n",
       "    </tr>\n",
       "  </tbody>\n",
       "</table>\n",
       "<p>6071250 rows × 1 columns</p>\n",
       "</div>"
      ],
      "text/plain": [
       "         carta_id\n",
       "0              75\n",
       "1             476\n",
       "2              75\n",
       "3             272\n",
       "4             113\n",
       "5              77\n",
       "6             251\n",
       "7             242\n",
       "8             290\n",
       "9             180\n",
       "10            476\n",
       "11            172\n",
       "12              9\n",
       "13             77\n",
       "14            211\n",
       "15             64\n",
       "16             64\n",
       "17            180\n",
       "18             75\n",
       "19            180\n",
       "20            140\n",
       "21            138\n",
       "22            292\n",
       "23             30\n",
       "24            290\n",
       "25            290\n",
       "26            138\n",
       "27            290\n",
       "28             75\n",
       "29             75\n",
       "...           ...\n",
       "6071220     40698\n",
       "6071221     41126\n",
       "6071222     40437\n",
       "6071223     40955\n",
       "6071224     40596\n",
       "6071225     41409\n",
       "6071226     39941\n",
       "6071227     38900\n",
       "6071228     40408\n",
       "6071229     40608\n",
       "6071230      2770\n",
       "6071231     38985\n",
       "6071232     38909\n",
       "6071233      2620\n",
       "6071234      2951\n",
       "6071235     38876\n",
       "6071236     38882\n",
       "6071237     38534\n",
       "6071238     38263\n",
       "6071239     38263\n",
       "6071240     38985\n",
       "6071241     38505\n",
       "6071242     40408\n",
       "6071243     38725\n",
       "6071244     38774\n",
       "6071245     39034\n",
       "6071246     38734\n",
       "6071247      2951\n",
       "6071248     38319\n",
       "6071249      2895\n",
       "\n",
       "[6071250 rows x 1 columns]"
      ]
     },
     "execution_count": 62,
     "metadata": {},
     "output_type": "execute_result"
    }
   ],
   "source": [
    "cartas = []\n",
    "# cartas_aux = []\n",
    "# carta_id = []\n",
    "# carta_ocorrencia = []\n",
    "\n",
    "# dados= {'carta_id': carta_id ,'carta_ocorrencia': carta_ocorrencia }\n",
    "\n",
    "for f in range(30):\n",
    "     cartas.extend(data['card_'+ str(f)])\n",
    "\n",
    "# for a in cartas:\n",
    "#     if (cartas_aux.count(a) == 0):\n",
    "#         cartas_aux.append(a)\n",
    "    \n",
    "# for i in cartas_aux:\n",
    "#     carta_id.append(i)\n",
    "#     carta_ocorrencia.append(cartas.count(i))\n",
    "\n",
    "dados= {'carta_id': cartas}\n",
    "cartas_comuns = pandas.DataFrame(dados)\n",
    "\n",
    "cartas_comuns\n",
    "\n",
    "\n"
   ]
  },
  {
   "cell_type": "code",
   "execution_count": 77,
   "metadata": {},
   "outputs": [
    {
     "data": {
      "text/plain": [
       "<matplotlib.axes._subplots.AxesSubplot at 0x7f59b4448208>"
      ]
     },
     "execution_count": 77,
     "metadata": {},
     "output_type": "execute_result"
    },
    {
     "data": {
      "image/png": "[encoded data removed]",
      "text/plain": [
       "<Figure size 720x720 with 1 Axes>"
      ]
     },
     "metadata": {
      "needs_background": "light"
     },
     "output_type": "display_data"
    }
   ],
   "source": [
    "ccc = cartas_comuns['carta_id'].value_counts()\n",
    "ccc[:50].plot.bar(figsize = (10,10))\n",
    "\n",
    "\n",
    "# ccc.plot.bar(figsize = (50,5))\n"
   ]
  },
  {
   "cell_type": "markdown",
   "metadata": {},
   "source": [
    "<h4>Boxplot</h4>"
   ]
  },
  {
   "cell_type": "code",
   "execution_count": 25,
   "metadata": {},
   "outputs": [],
   "source": [
    "# structures.plot.box()\n",
    "# match_info[\"gamelength\"].plot.box()\n",
    "# result_match = league_of_legends[['bResult', 'rResult']]\n",
    "# plt.boxplot(match_info[\"gamelength\"] + structures[\"Time\"])\n",
    "# plt.boxplot(match_info.gamelength)\n",
    "# teste = [match_info.gamelength, structures.Time, kills.Time, monsters.Time]\n",
    "# plt.boxplot(teste)"
   ]
  },
  {
   "cell_type": "markdown",
   "metadata": {},
   "source": [
    "<h4>Pizza</h4>"
   ]
  },
  {
   "cell_type": "code",
   "execution_count": 41,
   "metadata": {
    "collapsed": true
   },
   "outputs": [
    {
     "data": {
      "text/plain": [
       "<matplotlib.axes._subplots.AxesSubplot at 0x7f192e706e80>"
      ]
     },
     "execution_count": 41,
     "metadata": {},
     "output_type": "execute_result"
    },
    {
     "data": {
      "image/png": "[encoded data removed]",
      "text/plain": [
       "<Figure size 360x360 with 1 Axes>"
      ]
     },
     "metadata": {},
     "output_type": "display_data"
    }
   ],
   "source": [
    "class_count.plot.pie(autopct='%.1f%%', colors=class_dict, figsize=(5,5), legend=True, labels=None)"
   ]
  },
  {
   "cell_type": "code",
   "execution_count": 32,
   "metadata": {},
   "outputs": [
    {
     "data": {
      "text/plain": [
       "<matplotlib.axes._subplots.AxesSubplot at 0x7f192e66c780>"
      ]
     },
     "execution_count": 32,
     "metadata": {},
     "output_type": "execute_result"
    },
    {
     "data": {
      "image/png": "[encoded data removed]",
      "text/plain": [
       "<Figure size 576x576 with 1 Axes>"
      ]
     },
     "metadata": {},
     "output_type": "display_data"
    }
   ],
   "source": [
    "deck_type_count.plot.pie(autopct='%.2f%%', figsize=(8,8), legend=True, labels=None)\n"
   ]
  },
  {
   "cell_type": "markdown",
   "metadata": {},
   "source": [
    "<h4>Bubble</h4>"
   ]
  },
  {
   "cell_type": "code",
   "execution_count": null,
   "metadata": {},
   "outputs": [],
   "source": [
    "import seaborn as sns\n",
    "\n",
    "sns.scatterplot(x= rating_count, y= kills.Time)"
   ]
  },
  {
   "cell_type": "code",
   "execution_count": null,
   "metadata": {},
   "outputs": [],
   "source": [
    "plt.scatter(kills['x_pos'], kills['y_pos'])\n",
    "# plt.scatter(gold['min_3'],gold['min_4'])\n",
    "# plt.scatter(gold['min_5'],gold['min_6'])\n"
   ]
  },
  {
   "cell_type": "markdown",
   "metadata": {},
   "source": [
    "<h4><strong>Conclusão</strong></h4>\n",
    "       <br> É possivel integrar o Python com frameworks para Web (como Django ou Flask) e com outras linguagens (como Javascript), o que aumenta as possibilidades de desenvolvimento. Além disso, existem diversas bibliotecas disponíveis para análise de dados. Este pacote inclui diversas utilidades, entre elas o Pandas, Numpy, Holoviews. Além disso, por ser mais antigo, Python é mais robusto e menos propenso a mudanças drásticas. \n",
    "    <br>  Python é uma linguagem de propósito geral bem estabelecida, ao contrário do R que é uma linguagem mais especializada e do Júlia que é uma linguagem relativamente nova, sendo assim a experiência adiquirida terá um maior potêncial de uso em aplicações futuras, seja em outros trabalhos ou no mercado.\n",
    "    <br> Apesar da deficiência do Python para programação paralela, acreditamos que a facilidade de codificar usando a linguagem trará uma vantagem mais significativa do que tempo de execução e mais liberdade para focar na análise dos dados, sem se preocupar com aprender as nuances de uma nova linguagem.\n",
    "    <br> Existem também uma biblioteca para rodar códico R em python caso alguma funcionalidade específica do R seja necessária."
   ]
  },
  {
   "cell_type": "markdown",
   "metadata": {},
   "source": [
    "# Referências:\n",
    "\n",
    "<h4>League of Legends - Competitive Matches, 2015 to 2018</h4>\n",
    "(https://www.kaggle.com/chuckephron/leagueoflegends)\n",
    "\n",
    "<br>https://www.python.org\n",
    "<br>Python for Data Analysis: Data Wrangling with Pandas, NumPy, and IPython Por Wes McKinney\n",
    "<br>https://books.google.com.br/books?hl=pt-BR&lr=&id=v3n4_AK8vu0C&oi=fnd&pg=PR3&dq=python+for+data+analysis&ots=rgJL4hyrqx&sig=v6onow7Ag9Qs4S11awiGeHLpSd4#v=onepage&q&f=false\n",
    "<br>http://www.cienciaedados.com/por-que-cientistas-de-dados-escolhem-python/\n",
    "<br>https://www.cbtnuggets.com/blog/technology/data/why-data-scientists-love-python    \n",
    "https://hackncast.org/v06-python\n",
    "<br>https://minerandodados.com.br/por-que-o-python-e-a-linguagem-mais-adotada-na-area-de-data-science/\n",
    "<br>Wes McKinney Python for Data Analysis: Data Wrangling with Pandas, NumPy, and IPython (2012)\n",
    "<br>https://cio.com.br/julia-vs-python-qual-e-a-melhor-para-a-ciencia-de-dados/\n",
    "<br>http://datascienceacademy.com.br/blog/top-20-bibliotecas-python-para-data-science/\n"
   ]
  },
  {
   "cell_type": "code",
   "execution_count": null,
   "metadata": {
    "scrolled": true
   },
   "outputs": [],
   "source": [
    "\n",
    "#url = \"https://...\"\n",
    "#s= requests.get(url).content #Puxa uma url da rede \n",
    "#c= pd.read_csv(io.StringIO(s.decode('utf-8'))) #Puxa um dataset da url\n",
    "\n",
    "#FICO BUNITO MAIS DEU BOSTA\n",
    "#for x in arquivos:\n",
    "#    dataset = pandas.read_csv('/home/' + str(user) + '/Downloads/datasets/' + str(x))\n",
    "#    lista_temp = {\n",
    "#    \n",
    "#        'nome': x,\n",
    "#        'dataset': dataset,\n",
    "#    }\n",
    "#    lista_datasets.append(lista_temp)\n",
    "\n",
    "# print(league_of_legends) \n",
    "# league = league_of_legends[[\"League\", \"bResult\"]] #Dois Colchetes = Selecionar linhas e colunas de um único dataset\n",
    "# print(league)\n",
    "#league_of_legends.loc[0] # Seleciona uma Linha do dataset\n",
    "# league_of_legends.iloc[0] # Seleciona uma Linha do dataset\n",
    "# league_of_legends.loc[[0]] # Seleciona uma Linha do dataset\n",
    "# league_of_legends.iloc[[0]] # Seleciona uma Linha do dataset\n",
    "\n",
    "# league_of_legends_nalcs_btag = league\n",
    "# league_nalcs_2015 = league_nalcs and league_2015\n",
    "# # print(league_nalcs)\n",
    "# print(league_of_legends[league_nalcs_2015])"
   ]
  },
  {
   "cell_type": "code",
   "execution_count": null,
   "metadata": {},
   "outputs": [],
   "source": []
  },
  {
   "cell_type": "code",
   "execution_count": null,
   "metadata": {},
   "outputs": [],
   "source": []
  }
 ],
 "metadata": {
  "kernelspec": {
   "display_name": "Python 3",
   "language": "python",
   "name": "python3"
  },
  "language_info": {
   "codemirror_mode": {
    "name": "ipython",
    "version": 3
   },
   "file_extension": ".py",
   "mimetype": "text/x-python",
   "name": "python",
   "nbconvert_exporter": "python",
   "pygments_lexer": "ipython3",
   "version": "3.5.3"
  }
 },
 "nbformat": 4,
 "nbformat_minor": 2
}
