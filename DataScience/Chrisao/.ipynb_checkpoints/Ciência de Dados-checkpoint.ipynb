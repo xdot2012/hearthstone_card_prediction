{
 "cells": [
  {
   "cell_type": "markdown",
   "metadata": {},
   "source": [
    "# Trabalho Ciência de dados"
   ]
  },
  {
   "cell_type": "markdown",
   "metadata": {},
   "source": [
    "<h4>Grupo:</h4>\n",
    "<p>\n",
    "    <br>Christopher Martins\n",
    "    <br>Daniel Lopes\n",
    "    <br>Douglas Gonçalves Sales\n",
    "</p>"
   ]
  },
  {
   "cell_type": "markdown",
   "metadata": {},
   "source": [
    "# Sobre a Linguagem\n",
    "\n",
    " O Python é uma linguagem interpretada de alto nível e foi escolhida pelo mérito acumulado ao longo de 28 anos de desenvolvimento.\n",
    "\n",
    "<h4><strong>Facilidade de Aprendizado e de Uso:</strong></h4>\n",
    "    <br>Python é uma linguagem de alto nível e de fácil aprendizado. Com isso, podemos começar a analisar os dados sem perder tempo descobrindo particularides da linguagem. De acordo com Stackoverflow, de 2018, o Python é a linguagem de programação mais popular do mundo, e é considerada uma linguagem para iniciantes, onde qualquer pessoa que possua um conhecimento básico de programação consegue utiliza-la.   \n",
    "    \n",
    "<h4><strong>Grande Comunidade:</strong></h4>\n",
    "    <br>A linguagem é amplamente utilizada para ciência de dados, e possui uma comunidade expecialista e colaborativa. O problema que um utilizador novato de Python vivencia, provavelmente já foi resolvido por um outro usuário mais experiente.  \n",
    "    \n",
    "<h4><strong>Grande Número de Bibliotecas e Frameworks:</strong></h4> \n",
    "    <br>A linguagem Python possui uma enorme variablidade de bibliotecas, desde a mais básicas como expressões regulares até inteligência artificial e aprendizado ao homem máquina, conexões HTTP seguras, processamento de XML e HTML, bancos de dados, net scraping, etc.  \n",
    "\n",
    "<h4><strong>Atualizada Constantemente:</strong></h4>\n",
    "    <br>Python é uma linguagem em desenvolvimento, constantemente atualizada. Muitos dos problemas vivenciados a pouco tempo atrás já não existem mais, e os problemas que existem hoje podem não existirão mais daqui a algum tempo.\n",
    "\n",
    "<h4><strong>Popularidade no Mercado:</strong></h4>\n",
    "   <br>Desde seu lançamento em 1991, Python têm evoluido para se tornar uma das linguagens de programação mais dinâmicas e populares no mercado visto que é extremamente versátil. eSeu uso se extende desde análise de dados até aplicações web e aprendizagem de máquina.\n",
    "       "
   ]
  },
  {
   "cell_type": "markdown",
   "metadata": {},
   "source": [
    "# Dataset"
   ]
  },
  {
   "cell_type": "markdown",
   "metadata": {},
   "source": [
    "# Pandas e NumPy\n",
    "\n",
    "Duas das bibliotecas mais usadas para análise de dados são o Pandas e o NumPy, de acordo com datascienceacademy. Ambos serão utilizados neste trabalho.\n",
    "Pandas é uma biblioteca Python para análises de dados que, de acordo com a documentação oficial, é de alta performance e de fácil utilização. Entre suas funcionalidades a mais comum é a de importação de arquivos CSV através do comando pandas.read_csv() que gera um arquivo do tipo \"DataFrame\", que pode então ser análisado e editado.\n"
   ]
  },
  {
   "cell_type": "markdown",
   "metadata": {},
   "source": [
    "<strong>Arquivos no Dataset:</strong>\n",
    "\n",
    "<strong>1- data.csv:</strong>\n",
    "Contém informações sobre os decks(baralhos), os usuários, as cartas e a data de retirada dos dados.\n",
    "\n",
    "<strong>craft_cost:</strong> Custo da contrução do baralho;<br>\n",
    "<strong>date:</strong> Data de postagem do baralho;<br>\n",
    "<strong>deck_archetype:</strong> Classificação dada de acordo com a tipagem do baralho;<br>\n",
    "<strong>deck_class:</strong> Nome da clase correspondente a cada baralho;<br>\n",
    "<strong>deck_format:</strong> Categoria que determina quais cartas são permitidas em cada baralho;<br>\n",
    "<strong>deck_id:</strong> Chave única que representa cada baralho;<br>\n",
    "<strong>deck_set:</strong> Expansão mais recente correspondente a cada baralho;<br>\n",
    "<strong>deck_type:</strong> Modo de jogo(neste trabalho limitamos o escopo à somente partidas ranqueadas);<br>\n",
    "<strong>rating:</strong> Nota atribuída ao baralho no site hearthpwm.com;<br>\n",
    "<strong>title:</strong> Nome do baralho;<br>\n",
    "<strong>user:</strong> Nome do autor do baralho;<br>\n",
    "<strong>card_0 até card_29:</strong> Id de cada carta; \n",
    "\n",
    "<strong>2- refs.json:</strong>\n",
    "Contém as referências das cartas.\n",
    "\n",
    "<strong>artist:</strong> Autor da arte da carta;<br>\n",
    "<strong>attack:</strong> Poder de ataque da carta;<br>\n",
    "<strong>cardClass:</strong> Classe da carta;<br>\n",
    "<strong>classes:</strong> Classe do herói;<br>\n",
    "<strong>collectible:</strong> Determinante de disponibilidade de adquirir a carta;<br>\n",
    "<strong>collectionText:</strong> Coleção da carta;<br>\n",
    "<strong>cost:</strong> Custo da carta em Dust;<br>\n",
    "<strong>dbfId:</strong> Id da carta referenciado no arquivo data.csv;<br>\n",
    "<strong>durability:</strong> Valor de durabilidade de cartas do tipo arma; <br>\n",
    "<strong>elite:</strong> Determina se a carta é de elite ou não;<br>\n",
    "<strong>faction:</strong> Facção da carta(Horda ou Aliança);<br>\n",
    "<strong>flavor:</strong> Texto fantasioso da carta;<br>\n",
    "<strong>health:</strong> Quantidade de vida de cada baralho;<br>\n",
    "<strong>howToEarn:</strong> Pré-requisito para adquirir a carta;<br>\n",
    "<strong>howToEarnGolden:</strong> Pré-requisito para adquirir a versão dourada da carta;<br>\n",
    "<strong>id:</strong> Chave da carta no jogo;<br>\n",
    "<strong>mechanics:</strong> Características que determinam certos efeitos da carta;<br>\n",
    "<strong>name:</strong> Nome da carta;<br>\n",
    "<strong>overload:</strong> Valor que determina o efeito de uma mecânica do jogo;<br>\n",
    "<strong>playRequirements:</strong> Pré-requisitos para o uso da carta;<br>\n",
    "<strong>playerClass:</strong> Classe do herói; <br>\n",
    "<strong>race:</strong> Raça da carta de monstro;<br>\n",
    "<strong>rarity:</strong>Raridade da carta;<br>\n",
    "<strong>referencedTags:</strong> Características que determinam certos efeitos da carta;<br>\n",
    "<strong>set:</strong> Expansão na qual a carta foi lançada;<br>\n",
    "<strong>spellDamage:</strong> Dano mágico da carta;<br>\n",
    "<strong>targetingArrowText:</strong> Dados referentes a carta;<br>\n",
    "<strong>text:</strong> Descrição da carta;<br>\n",
    "<strong>type:</strong> Tipo da carta;\n",
    "\n",
    "\n"
   ]
  },
  {
   "cell_type": "markdown",
   "metadata": {},
   "source": [
    "<h4><strong>Arquivos do Dataset</strong></h4>"
   ]
  },
  {
   "cell_type": "code",
   "execution_count": 22,
   "metadata": {},
   "outputs": [],
   "source": [
    "# https://www.kaggle.com/romainvincent/history-of-hearthstone/data\n",
    "import getpass, os, pandas, requests, math, numpy\n",
    "import matplotlib.pyplot as plt\n",
    "import seaborn as sns\n",
    "from datetime import datetime, timedelta\n",
    "\n",
    "\n",
    "\n",
    "user = getpass.getuser()\n",
    "path = str('/home/' + str(user) + \"/datasets/\")"
   ]
  },
  {
   "cell_type": "markdown",
   "metadata": {},
   "source": [
    "<h4><strong>Importação</strong></h4>"
   ]
  },
  {
   "cell_type": "code",
   "execution_count": null,
   "metadata": {},
   "outputs": [],
   "source": []
  },
  {
   "cell_type": "code",
   "execution_count": 23,
   "metadata": {},
   "outputs": [
    {
     "data": {
      "text/plain": [
       "Index(['craft_cost', 'date', 'deck_archetype', 'deck_class', 'deck_format',\n",
       "       'deck_id', 'deck_set', 'deck_type', 'rating', 'title', 'user', 'card_0',\n",
       "       'card_1', 'card_2', 'card_3', 'card_4', 'card_5', 'card_6', 'card_7',\n",
       "       'card_8', 'card_9', 'card_10', 'card_11', 'card_12', 'card_13',\n",
       "       'card_14', 'card_15', 'card_16', 'card_17', 'card_18', 'card_19',\n",
       "       'card_20', 'card_21', 'card_22', 'card_23', 'card_24', 'card_25',\n",
       "       'card_26', 'card_27', 'card_28', 'card_29'],\n",
       "      dtype='object')"
      ]
     },
     "execution_count": 23,
     "metadata": {},
     "output_type": "execute_result"
    }
   ],
   "source": [
    "decks = pandas.read_csv(path + str(\"data.csv\"))\n",
    "card_info = pandas.read_json(path + str(\"refs.json\"))\n",
    "data.columns\n",
    "\n"
   ]
  },
  {
   "cell_type": "markdown",
   "metadata": {},
   "source": [
    "<h4><strong>Limpeza dos Dados</strong></h4>"
   ]
  },
  {
   "cell_type": "code",
   "execution_count": 24,
   "metadata": {},
   "outputs": [],
   "source": [
    "# remove tabs and newlines from user names\n",
    "decks['user'] = decks['user'].apply(str.strip)\n",
    "\n",
    "#remove other game modes\n",
    "filter_ranked = decks['deck_type'] == 'Ranked Deck'\n",
    "decks = decks[filter_ranked]\n",
    "\n",
    "# transform date strings to datetime objects\n",
    "decks.date = pandas.to_datetime(decks.date)\n",
    "release_date = datetime(2014, 3, 11)\n",
    "filter_release_date = decks.date > release_date\n",
    "decks = decks[filter_release_date]\n",
    "\n",
    "decks['year'] = pandas.DatetimeIndex(decks['date']).year"
   ]
  },
  {
   "cell_type": "markdown",
   "metadata": {},
   "source": [
    "<h4><strong>Filtragem de Dados</strong></h4>"
   ]
  },
  {
   "cell_type": "code",
   "execution_count": 28,
   "metadata": {},
   "outputs": [],
   "source": [
    "class_count = decks['deck_class'].value_counts()\n",
    "rating_count = decks['rating'].value_counts()\n",
    "deck_type_count = decks['deck_type'].value_counts()\n",
    "title_count = decks['title'].value_counts()\n",
    "card_col = ['card_' + str(i) for i in range(30)]\n",
    "\n",
    "filter_decks_2017 = decks['year'] == 2017\n",
    "filter_decks_2016 = decks['year'] == 2016\n",
    "filter_decks_2015 = decks['year'] == 2015\n",
    "filter_decks_2014 = decks['year'] == 2014\n",
    "filter_decks_2013 = decks['year'] == 2013\n",
    "year_count = decks['year'].value_counts()\n",
    "\n",
    "filter_mage_decks = decks['deck_class'] == 'Mage' \n",
    "filter_priest_decks = decks['deck_class'] == 'Priest' \n",
    "filter_paladin_decks = decks['deck_class'] ==  'Paladin' \n",
    "filter_warlock_decks = decks['deck_class'] == 'Warlock' \n",
    "filter_druid_decks = decks['deck_class'] == 'Druid' \n",
    "filter_shaman_decks = decks['deck_class'] == 'Shaman'\n",
    "filter_warrior_decks = decks['deck_class'] == 'Warrior'\n",
    "filter_rogue_decks = decks['deck_class'] ==  'Rogue' \n",
    "filter_hunter_decks = decks['deck_class'] == 'Hunter' \n",
    "filter_wild = decks['deck_format'] == 'W'\n",
    "filter_standard = decks['deck_format'] == 'S'\n",
    "\n",
    "filter_mage_standard_decks = filter_standard & filter_mage_decks\n",
    "filter_mage_wild_decks = filter_wild & filter_mage_decks\n",
    "filter_priest_standard_decks = filter_standard & filter_priest_decks\n",
    "filter_priest_wild_decks = filter_wild & filter_priest_decks\n",
    "filter_paladin_standard_decks = filter_standard & filter_paladin_decks\n",
    "filter_paladin_wild_decks = filter_wild & filter_paladin_decks\n",
    "filter_warlock_standard_decks = filter_standard & filter_warlock_decks\n",
    "filter_warlock_wild_decks = filter_wild & filter_warlock_decks\n",
    "filter_druid_standard_decks = filter_standard & filter_druid_decks\n",
    "filter_druid_wild_decks = filter_wild & filter_druid_decks\n",
    "filter_shaman_standard_decks = filter_standard & filter_shaman_decks\n",
    "filter_shaman_wild_decks = filter_wild & filter_shaman_decks\n",
    "filter_warrior_standard_decks = filter_standard & filter_warrior_decks\n",
    "filter_warrior_wild_decks = filter_wild & filter_warrior_decks\n",
    "filter_rogue_standard_decks = filter_standard & filter_rogue_decks\n",
    "filter_rogue_wild_decks = filter_wild & filter_rogue_decks\n",
    "filter_hunter_standard_decks = filter_standard & filter_hunter_decks\n",
    "filter_hunter_wild_decks = filter_wild & filter_hunter_decks\n",
    "\n",
    "card_types_count = card_info['type'].value_counts()\n",
    "filter_monster_cards = card_info['type'] == 'MINION'\n",
    "filter_spell_cards = card_info['type'] == 'SPELL'\n",
    "filter_enchantment_cards = card_info['type'] == 'ENCHANTMENT'\n",
    "filter_hero_power = card_info['type'] == 'HERO_POWER'\n",
    "filter_hero = card_info['type'] == 'HERO'\n",
    "filter_weapon = card_info['type'] == 'WEAPON'\n",
    "\n",
    "monster_cards = card_info[filter_monster_cards]\n",
    "spell_cards = card_info[filter_monster_cards]\n",
    "enchantment_cards = card_info[filter_enchantment_cards]\n",
    "hero_power_cards = card_info[filter_hero_power]\n",
    "hero_cards = card_info[filter_hero]\n",
    "weapon_cards = card_info[filter_weapon]\n",
    "\n",
    "monster_cards = monster_cards.dropna(subset=['collectible'])\n"
   ]
  },
  {
   "cell_type": "code",
   "execution_count": 26,
   "metadata": {},
   "outputs": [
    {
     "name": "stderr",
     "output_type": "stream",
     "text": [
      "/usr/local/lib/python3.5/dist-packages/ipykernel_launcher.py:5: FutureWarning: get_value is deprecated and will be removed in a future release. Please use .at[] or .iat[] accessors instead\n",
      "  \"\"\"\n"
     ]
    },
    {
     "ename": "KeyError",
     "evalue": "0",
     "output_type": "error",
     "traceback": [
      "\u001b[0;31m---------------------------------------------------------------------------\u001b[0m",
      "\u001b[0;31mKeyError\u001b[0m                                  Traceback (most recent call last)",
      "\u001b[0;32m/usr/local/lib/python3.5/dist-packages/pandas/core/indexes/base.py\u001b[0m in \u001b[0;36mget_loc\u001b[0;34m(self, key, method, tolerance)\u001b[0m\n\u001b[1;32m   2896\u001b[0m             \u001b[0;32mtry\u001b[0m\u001b[0;34m:\u001b[0m\u001b[0;34m\u001b[0m\u001b[0m\n\u001b[0;32m-> 2897\u001b[0;31m                 \u001b[0;32mreturn\u001b[0m \u001b[0mself\u001b[0m\u001b[0;34m.\u001b[0m\u001b[0m_engine\u001b[0m\u001b[0;34m.\u001b[0m\u001b[0mget_loc\u001b[0m\u001b[0;34m(\u001b[0m\u001b[0mkey\u001b[0m\u001b[0;34m)\u001b[0m\u001b[0;34m\u001b[0m\u001b[0m\n\u001b[0m\u001b[1;32m   2898\u001b[0m             \u001b[0;32mexcept\u001b[0m \u001b[0mKeyError\u001b[0m\u001b[0;34m:\u001b[0m\u001b[0;34m\u001b[0m\u001b[0m\n",
      "\u001b[0;32mpandas/_libs/index.pyx\u001b[0m in \u001b[0;36mpandas._libs.index.IndexEngine.get_loc\u001b[0;34m()\u001b[0m\n",
      "\u001b[0;32mpandas/_libs/index.pyx\u001b[0m in \u001b[0;36mpandas._libs.index.IndexEngine.get_loc\u001b[0;34m()\u001b[0m\n",
      "\u001b[0;32mpandas/_libs/hashtable_class_helper.pxi\u001b[0m in \u001b[0;36mpandas._libs.hashtable.Int64HashTable.get_item\u001b[0;34m()\u001b[0m\n",
      "\u001b[0;32mpandas/_libs/hashtable_class_helper.pxi\u001b[0m in \u001b[0;36mpandas._libs.hashtable.Int64HashTable.get_item\u001b[0;34m()\u001b[0m\n",
      "\u001b[0;31mKeyError\u001b[0m: 0",
      "\nDuring handling of the above exception, another exception occurred:\n",
      "\u001b[0;31mKeyError\u001b[0m                                  Traceback (most recent call last)",
      "\u001b[0;32m<ipython-input-26-593cc3a56461>\u001b[0m in \u001b[0;36m<module>\u001b[0;34m\u001b[0m\n\u001b[1;32m      3\u001b[0m \u001b[0;32mfor\u001b[0m \u001b[0mx\u001b[0m \u001b[0;32min\u001b[0m \u001b[0mrange\u001b[0m\u001b[0;34m(\u001b[0m\u001b[0;36m0\u001b[0m\u001b[0;34m,\u001b[0m\u001b[0;34m(\u001b[0m\u001b[0mlen\u001b[0m\u001b[0;34m(\u001b[0m\u001b[0mdata\u001b[0m\u001b[0;34m)\u001b[0m\u001b[0;34m)\u001b[0m\u001b[0;34m)\u001b[0m\u001b[0;34m:\u001b[0m\u001b[0;34m\u001b[0m\u001b[0m\n\u001b[1;32m      4\u001b[0m     \u001b[0;32mfor\u001b[0m \u001b[0mi\u001b[0m \u001b[0;32min\u001b[0m \u001b[0mrange\u001b[0m\u001b[0;34m(\u001b[0m\u001b[0;36m0\u001b[0m\u001b[0;34m,\u001b[0m\u001b[0;36m1\u001b[0m\u001b[0;34m)\u001b[0m\u001b[0;34m:\u001b[0m\u001b[0;34m\u001b[0m\u001b[0m\n\u001b[0;32m----> 5\u001b[0;31m         \u001b[0mlista_temp\u001b[0m\u001b[0;34m.\u001b[0m\u001b[0mappend\u001b[0m\u001b[0;34m(\u001b[0m\u001b[0mdata\u001b[0m\u001b[0;34m.\u001b[0m\u001b[0mget_value\u001b[0m\u001b[0;34m(\u001b[0m\u001b[0mx\u001b[0m\u001b[0;34m,\u001b[0m \u001b[0;34m'card_'\u001b[0m \u001b[0;34m+\u001b[0m \u001b[0mstr\u001b[0m\u001b[0;34m(\u001b[0m\u001b[0mi\u001b[0m\u001b[0;34m)\u001b[0m\u001b[0;34m)\u001b[0m\u001b[0;34m)\u001b[0m\u001b[0;34m\u001b[0m\u001b[0m\n\u001b[0m\u001b[1;32m      6\u001b[0m     \u001b[0mlista\u001b[0m\u001b[0;34m.\u001b[0m\u001b[0mappend\u001b[0m\u001b[0;34m(\u001b[0m\u001b[0mlista_temp\u001b[0m\u001b[0;34m)\u001b[0m\u001b[0;34m\u001b[0m\u001b[0m\n\u001b[1;32m      7\u001b[0m \u001b[0mprint\u001b[0m\u001b[0;34m(\u001b[0m\u001b[0;34m'cabei'\u001b[0m\u001b[0;34m)\u001b[0m\u001b[0;34m\u001b[0m\u001b[0m\n",
      "\u001b[0;32m/usr/local/lib/python3.5/dist-packages/pandas/core/frame.py\u001b[0m in \u001b[0;36mget_value\u001b[0;34m(self, index, col, takeable)\u001b[0m\n\u001b[1;32m   2818\u001b[0m             \u001b[0mstacklevel\u001b[0m\u001b[0;34m=\u001b[0m\u001b[0;36m2\u001b[0m\u001b[0;34m,\u001b[0m\u001b[0;34m\u001b[0m\u001b[0m\n\u001b[1;32m   2819\u001b[0m         )\n\u001b[0;32m-> 2820\u001b[0;31m         \u001b[0;32mreturn\u001b[0m \u001b[0mself\u001b[0m\u001b[0;34m.\u001b[0m\u001b[0m_get_value\u001b[0m\u001b[0;34m(\u001b[0m\u001b[0mindex\u001b[0m\u001b[0;34m,\u001b[0m \u001b[0mcol\u001b[0m\u001b[0;34m,\u001b[0m \u001b[0mtakeable\u001b[0m\u001b[0;34m=\u001b[0m\u001b[0mtakeable\u001b[0m\u001b[0;34m)\u001b[0m\u001b[0;34m\u001b[0m\u001b[0m\n\u001b[0m\u001b[1;32m   2821\u001b[0m \u001b[0;34m\u001b[0m\u001b[0m\n\u001b[1;32m   2822\u001b[0m     \u001b[0;32mdef\u001b[0m \u001b[0m_get_value\u001b[0m\u001b[0;34m(\u001b[0m\u001b[0mself\u001b[0m\u001b[0;34m,\u001b[0m \u001b[0mindex\u001b[0m\u001b[0;34m,\u001b[0m \u001b[0mcol\u001b[0m\u001b[0;34m,\u001b[0m \u001b[0mtakeable\u001b[0m\u001b[0;34m=\u001b[0m\u001b[0;32mFalse\u001b[0m\u001b[0;34m)\u001b[0m\u001b[0;34m:\u001b[0m\u001b[0;34m\u001b[0m\u001b[0m\n",
      "\u001b[0;32m/usr/local/lib/python3.5/dist-packages/pandas/core/frame.py\u001b[0m in \u001b[0;36m_get_value\u001b[0;34m(self, index, col, takeable)\u001b[0m\n\u001b[1;32m   2842\u001b[0m         \u001b[0;31m# use positional\u001b[0m\u001b[0;34m\u001b[0m\u001b[0;34m\u001b[0m\u001b[0m\n\u001b[1;32m   2843\u001b[0m         \u001b[0mcol\u001b[0m \u001b[0;34m=\u001b[0m \u001b[0mself\u001b[0m\u001b[0;34m.\u001b[0m\u001b[0mcolumns\u001b[0m\u001b[0;34m.\u001b[0m\u001b[0mget_loc\u001b[0m\u001b[0;34m(\u001b[0m\u001b[0mcol\u001b[0m\u001b[0;34m)\u001b[0m\u001b[0;34m\u001b[0m\u001b[0m\n\u001b[0;32m-> 2844\u001b[0;31m         \u001b[0mindex\u001b[0m \u001b[0;34m=\u001b[0m \u001b[0mself\u001b[0m\u001b[0;34m.\u001b[0m\u001b[0mindex\u001b[0m\u001b[0;34m.\u001b[0m\u001b[0mget_loc\u001b[0m\u001b[0;34m(\u001b[0m\u001b[0mindex\u001b[0m\u001b[0;34m)\u001b[0m\u001b[0;34m\u001b[0m\u001b[0m\n\u001b[0m\u001b[1;32m   2845\u001b[0m         \u001b[0;32mreturn\u001b[0m \u001b[0mself\u001b[0m\u001b[0;34m.\u001b[0m\u001b[0m_get_value\u001b[0m\u001b[0;34m(\u001b[0m\u001b[0mindex\u001b[0m\u001b[0;34m,\u001b[0m \u001b[0mcol\u001b[0m\u001b[0;34m,\u001b[0m \u001b[0mtakeable\u001b[0m\u001b[0;34m=\u001b[0m\u001b[0;32mTrue\u001b[0m\u001b[0;34m)\u001b[0m\u001b[0;34m\u001b[0m\u001b[0m\n\u001b[1;32m   2846\u001b[0m \u001b[0;34m\u001b[0m\u001b[0m\n",
      "\u001b[0;32m/usr/local/lib/python3.5/dist-packages/pandas/core/indexes/base.py\u001b[0m in \u001b[0;36mget_loc\u001b[0;34m(self, key, method, tolerance)\u001b[0m\n\u001b[1;32m   2897\u001b[0m                 \u001b[0;32mreturn\u001b[0m \u001b[0mself\u001b[0m\u001b[0;34m.\u001b[0m\u001b[0m_engine\u001b[0m\u001b[0;34m.\u001b[0m\u001b[0mget_loc\u001b[0m\u001b[0;34m(\u001b[0m\u001b[0mkey\u001b[0m\u001b[0;34m)\u001b[0m\u001b[0;34m\u001b[0m\u001b[0m\n\u001b[1;32m   2898\u001b[0m             \u001b[0;32mexcept\u001b[0m \u001b[0mKeyError\u001b[0m\u001b[0;34m:\u001b[0m\u001b[0;34m\u001b[0m\u001b[0m\n\u001b[0;32m-> 2899\u001b[0;31m                 \u001b[0;32mreturn\u001b[0m \u001b[0mself\u001b[0m\u001b[0;34m.\u001b[0m\u001b[0m_engine\u001b[0m\u001b[0;34m.\u001b[0m\u001b[0mget_loc\u001b[0m\u001b[0;34m(\u001b[0m\u001b[0mself\u001b[0m\u001b[0;34m.\u001b[0m\u001b[0m_maybe_cast_indexer\u001b[0m\u001b[0;34m(\u001b[0m\u001b[0mkey\u001b[0m\u001b[0;34m)\u001b[0m\u001b[0;34m)\u001b[0m\u001b[0;34m\u001b[0m\u001b[0m\n\u001b[0m\u001b[1;32m   2900\u001b[0m         \u001b[0mindexer\u001b[0m \u001b[0;34m=\u001b[0m \u001b[0mself\u001b[0m\u001b[0;34m.\u001b[0m\u001b[0mget_indexer\u001b[0m\u001b[0;34m(\u001b[0m\u001b[0;34m[\u001b[0m\u001b[0mkey\u001b[0m\u001b[0;34m]\u001b[0m\u001b[0;34m,\u001b[0m \u001b[0mmethod\u001b[0m\u001b[0;34m=\u001b[0m\u001b[0mmethod\u001b[0m\u001b[0;34m,\u001b[0m \u001b[0mtolerance\u001b[0m\u001b[0;34m=\u001b[0m\u001b[0mtolerance\u001b[0m\u001b[0;34m)\u001b[0m\u001b[0;34m\u001b[0m\u001b[0m\n\u001b[1;32m   2901\u001b[0m         \u001b[0;32mif\u001b[0m \u001b[0mindexer\u001b[0m\u001b[0;34m.\u001b[0m\u001b[0mndim\u001b[0m \u001b[0;34m>\u001b[0m \u001b[0;36m1\u001b[0m \u001b[0;32mor\u001b[0m \u001b[0mindexer\u001b[0m\u001b[0;34m.\u001b[0m\u001b[0msize\u001b[0m \u001b[0;34m>\u001b[0m \u001b[0;36m1\u001b[0m\u001b[0;34m:\u001b[0m\u001b[0;34m\u001b[0m\u001b[0m\n",
      "\u001b[0;32mpandas/_libs/index.pyx\u001b[0m in \u001b[0;36mpandas._libs.index.IndexEngine.get_loc\u001b[0;34m()\u001b[0m\n",
      "\u001b[0;32mpandas/_libs/index.pyx\u001b[0m in \u001b[0;36mpandas._libs.index.IndexEngine.get_loc\u001b[0;34m()\u001b[0m\n",
      "\u001b[0;32mpandas/_libs/hashtable_class_helper.pxi\u001b[0m in \u001b[0;36mpandas._libs.hashtable.Int64HashTable.get_item\u001b[0;34m()\u001b[0m\n",
      "\u001b[0;32mpandas/_libs/hashtable_class_helper.pxi\u001b[0m in \u001b[0;36mpandas._libs.hashtable.Int64HashTable.get_item\u001b[0;34m()\u001b[0m\n",
      "\u001b[0;31mKeyError\u001b[0m: 0"
     ]
    }
   ],
   "source": []
  },
  {
   "cell_type": "code",
   "execution_count": null,
   "metadata": {},
   "outputs": [],
   "source": []
  },
  {
   "cell_type": "markdown",
   "metadata": {},
   "source": [
    "<h4><strong>Análise Exploratória dos Dados</strong></h4>"
   ]
  },
  {
   "cell_type": "code",
   "execution_count": null,
   "metadata": {},
   "outputs": [],
   "source": [
    "# import math\n",
    "# \n",
    "# lista_temp = []\n",
    "# lista = []\n",
    "# for x in range(0,(math.trunc(len(data)/100))):\n",
    "#     for i in range(0,30):\n",
    "#         lista_temp.append(data.get_value(x, 'card_' + str(i)))\n",
    "#     lista.append(lista_temp)\n",
    "# print(lista)"
   ]
  },
  {
   "cell_type": "markdown",
   "metadata": {},
   "source": [
    "<h5>Histograma</h5>\n",
    "\n",
    "Média - Desvio Padrão\n",
    "Desvio ++ = maior largura da curva\n",
    "Desvio -- = menor largura da curva\n"
   ]
  },
  {
   "cell_type": "code",
   "execution_count": 27,
   "metadata": {},
   "outputs": [
    {
     "name": "stderr",
     "output_type": "stream",
     "text": [
      "/usr/local/lib/python3.5/dist-packages/ipykernel_launcher.py:1: UserWarning: Boolean Series key will be reindexed to match DataFrame index.\n",
      "  \"\"\"Entry point for launching an IPython kernel.\n"
     ]
    },
    {
     "ename": "FileNotFoundError",
     "evalue": "[Errno 2] No such file or directory: 'graphs/cost/dust_mage.png'",
     "output_type": "error",
     "traceback": [
      "\u001b[0;31m---------------------------------------------------------------------------\u001b[0m",
      "\u001b[0;31mFileNotFoundError\u001b[0m                         Traceback (most recent call last)",
      "\u001b[0;32m<ipython-input-27-58d3348af23d>\u001b[0m in \u001b[0;36m<module>\u001b[0;34m\u001b[0m\n\u001b[1;32m      3\u001b[0m \u001b[0mplt\u001b[0m\u001b[0;34m.\u001b[0m\u001b[0mxlabel\u001b[0m\u001b[0;34m(\u001b[0m\u001b[0;34m\"Custo (Dust)\"\u001b[0m\u001b[0;34m)\u001b[0m\u001b[0;34m\u001b[0m\u001b[0m\n\u001b[1;32m      4\u001b[0m \u001b[0mplt\u001b[0m\u001b[0;34m.\u001b[0m\u001b[0mylabel\u001b[0m\u001b[0;34m(\u001b[0m\u001b[0;34m\"Ocorrências\"\u001b[0m\u001b[0;34m)\u001b[0m\u001b[0;34m\u001b[0m\u001b[0m\n\u001b[0;32m----> 5\u001b[0;31m \u001b[0mplt\u001b[0m\u001b[0;34m.\u001b[0m\u001b[0msavefig\u001b[0m\u001b[0;34m(\u001b[0m\u001b[0;34m\"graphs/cost/dust_mage.png\"\u001b[0m\u001b[0;34m,\u001b[0m\u001b[0mdpi\u001b[0m\u001b[0;34m=\u001b[0m\u001b[0;36m300\u001b[0m\u001b[0;34m)\u001b[0m\u001b[0;34m\u001b[0m\u001b[0m\n\u001b[0m\u001b[1;32m      6\u001b[0m \u001b[0mplt\u001b[0m\u001b[0;34m.\u001b[0m\u001b[0mshow\u001b[0m\u001b[0;34m(\u001b[0m\u001b[0;34m)\u001b[0m\u001b[0;34m\u001b[0m\u001b[0m\n\u001b[1;32m      7\u001b[0m \u001b[0;34m\u001b[0m\u001b[0m\n",
      "\u001b[0;32m/usr/local/lib/python3.5/dist-packages/matplotlib/pyplot.py\u001b[0m in \u001b[0;36msavefig\u001b[0;34m(*args, **kwargs)\u001b[0m\n\u001b[1;32m    687\u001b[0m \u001b[0;32mdef\u001b[0m \u001b[0msavefig\u001b[0m\u001b[0;34m(\u001b[0m\u001b[0;34m*\u001b[0m\u001b[0margs\u001b[0m\u001b[0;34m,\u001b[0m \u001b[0;34m**\u001b[0m\u001b[0mkwargs\u001b[0m\u001b[0;34m)\u001b[0m\u001b[0;34m:\u001b[0m\u001b[0;34m\u001b[0m\u001b[0m\n\u001b[1;32m    688\u001b[0m     \u001b[0mfig\u001b[0m \u001b[0;34m=\u001b[0m \u001b[0mgcf\u001b[0m\u001b[0;34m(\u001b[0m\u001b[0;34m)\u001b[0m\u001b[0;34m\u001b[0m\u001b[0m\n\u001b[0;32m--> 689\u001b[0;31m     \u001b[0mres\u001b[0m \u001b[0;34m=\u001b[0m \u001b[0mfig\u001b[0m\u001b[0;34m.\u001b[0m\u001b[0msavefig\u001b[0m\u001b[0;34m(\u001b[0m\u001b[0;34m*\u001b[0m\u001b[0margs\u001b[0m\u001b[0;34m,\u001b[0m \u001b[0;34m**\u001b[0m\u001b[0mkwargs\u001b[0m\u001b[0;34m)\u001b[0m\u001b[0;34m\u001b[0m\u001b[0m\n\u001b[0m\u001b[1;32m    690\u001b[0m     \u001b[0mfig\u001b[0m\u001b[0;34m.\u001b[0m\u001b[0mcanvas\u001b[0m\u001b[0;34m.\u001b[0m\u001b[0mdraw_idle\u001b[0m\u001b[0;34m(\u001b[0m\u001b[0;34m)\u001b[0m   \u001b[0;31m# need this if 'transparent=True' to reset colors\u001b[0m\u001b[0;34m\u001b[0m\u001b[0m\n\u001b[1;32m    691\u001b[0m     \u001b[0;32mreturn\u001b[0m \u001b[0mres\u001b[0m\u001b[0;34m\u001b[0m\u001b[0m\n",
      "\u001b[0;32m/usr/local/lib/python3.5/dist-packages/matplotlib/figure.py\u001b[0m in \u001b[0;36msavefig\u001b[0;34m(self, fname, frameon, transparent, **kwargs)\u001b[0m\n\u001b[1;32m   2092\u001b[0m             \u001b[0mself\u001b[0m\u001b[0;34m.\u001b[0m\u001b[0mset_frameon\u001b[0m\u001b[0;34m(\u001b[0m\u001b[0mframeon\u001b[0m\u001b[0;34m)\u001b[0m\u001b[0;34m\u001b[0m\u001b[0m\n\u001b[1;32m   2093\u001b[0m \u001b[0;34m\u001b[0m\u001b[0m\n\u001b[0;32m-> 2094\u001b[0;31m         \u001b[0mself\u001b[0m\u001b[0;34m.\u001b[0m\u001b[0mcanvas\u001b[0m\u001b[0;34m.\u001b[0m\u001b[0mprint_figure\u001b[0m\u001b[0;34m(\u001b[0m\u001b[0mfname\u001b[0m\u001b[0;34m,\u001b[0m \u001b[0;34m**\u001b[0m\u001b[0mkwargs\u001b[0m\u001b[0;34m)\u001b[0m\u001b[0;34m\u001b[0m\u001b[0m\n\u001b[0m\u001b[1;32m   2095\u001b[0m \u001b[0;34m\u001b[0m\u001b[0m\n\u001b[1;32m   2096\u001b[0m         \u001b[0;32mif\u001b[0m \u001b[0mframeon\u001b[0m\u001b[0;34m:\u001b[0m\u001b[0;34m\u001b[0m\u001b[0m\n",
      "\u001b[0;32m/usr/local/lib/python3.5/dist-packages/matplotlib/backend_bases.py\u001b[0m in \u001b[0;36mprint_figure\u001b[0;34m(self, filename, dpi, facecolor, edgecolor, orientation, format, bbox_inches, **kwargs)\u001b[0m\n\u001b[1;32m   2073\u001b[0m                     \u001b[0morientation\u001b[0m\u001b[0;34m=\u001b[0m\u001b[0morientation\u001b[0m\u001b[0;34m,\u001b[0m\u001b[0;34m\u001b[0m\u001b[0m\n\u001b[1;32m   2074\u001b[0m                     \u001b[0mbbox_inches_restore\u001b[0m\u001b[0;34m=\u001b[0m\u001b[0m_bbox_inches_restore\u001b[0m\u001b[0;34m,\u001b[0m\u001b[0;34m\u001b[0m\u001b[0m\n\u001b[0;32m-> 2075\u001b[0;31m                     **kwargs)\n\u001b[0m\u001b[1;32m   2076\u001b[0m             \u001b[0;32mfinally\u001b[0m\u001b[0;34m:\u001b[0m\u001b[0;34m\u001b[0m\u001b[0m\n\u001b[1;32m   2077\u001b[0m                 \u001b[0;32mif\u001b[0m \u001b[0mbbox_inches\u001b[0m \u001b[0;32mand\u001b[0m \u001b[0mrestore_bbox\u001b[0m\u001b[0;34m:\u001b[0m\u001b[0;34m\u001b[0m\u001b[0m\n",
      "\u001b[0;32m/usr/local/lib/python3.5/dist-packages/matplotlib/backends/backend_agg.py\u001b[0m in \u001b[0;36mprint_png\u001b[0;34m(self, filename_or_obj, *args, **kwargs)\u001b[0m\n\u001b[1;32m    519\u001b[0m \u001b[0;34m\u001b[0m\u001b[0m\n\u001b[1;32m    520\u001b[0m         \u001b[0;32mwith\u001b[0m \u001b[0mcbook\u001b[0m\u001b[0;34m.\u001b[0m\u001b[0m_setattr_cm\u001b[0m\u001b[0;34m(\u001b[0m\u001b[0mrenderer\u001b[0m\u001b[0;34m,\u001b[0m \u001b[0mdpi\u001b[0m\u001b[0;34m=\u001b[0m\u001b[0mself\u001b[0m\u001b[0;34m.\u001b[0m\u001b[0mfigure\u001b[0m\u001b[0;34m.\u001b[0m\u001b[0mdpi\u001b[0m\u001b[0;34m)\u001b[0m\u001b[0;34m,\u001b[0m\u001b[0;31m \u001b[0m\u001b[0;31m\\\u001b[0m\u001b[0;34m\u001b[0m\u001b[0m\n\u001b[0;32m--> 521\u001b[0;31m                 \u001b[0mcbook\u001b[0m\u001b[0;34m.\u001b[0m\u001b[0mopen_file_cm\u001b[0m\u001b[0;34m(\u001b[0m\u001b[0mfilename_or_obj\u001b[0m\u001b[0;34m,\u001b[0m \u001b[0;34m\"wb\"\u001b[0m\u001b[0;34m)\u001b[0m \u001b[0;32mas\u001b[0m \u001b[0mfh\u001b[0m\u001b[0;34m:\u001b[0m\u001b[0;34m\u001b[0m\u001b[0m\n\u001b[0m\u001b[1;32m    522\u001b[0m             _png.write_png(renderer._renderer, fh,\n\u001b[1;32m    523\u001b[0m                             self.figure.dpi, metadata=metadata)\n",
      "\u001b[0;32m/usr/lib/python3.5/contextlib.py\u001b[0m in \u001b[0;36m__enter__\u001b[0;34m(self)\u001b[0m\n\u001b[1;32m     57\u001b[0m     \u001b[0;32mdef\u001b[0m \u001b[0m__enter__\u001b[0m\u001b[0;34m(\u001b[0m\u001b[0mself\u001b[0m\u001b[0;34m)\u001b[0m\u001b[0;34m:\u001b[0m\u001b[0;34m\u001b[0m\u001b[0m\n\u001b[1;32m     58\u001b[0m         \u001b[0;32mtry\u001b[0m\u001b[0;34m:\u001b[0m\u001b[0;34m\u001b[0m\u001b[0m\n\u001b[0;32m---> 59\u001b[0;31m             \u001b[0;32mreturn\u001b[0m \u001b[0mnext\u001b[0m\u001b[0;34m(\u001b[0m\u001b[0mself\u001b[0m\u001b[0;34m.\u001b[0m\u001b[0mgen\u001b[0m\u001b[0;34m)\u001b[0m\u001b[0;34m\u001b[0m\u001b[0m\n\u001b[0m\u001b[1;32m     60\u001b[0m         \u001b[0;32mexcept\u001b[0m \u001b[0mStopIteration\u001b[0m\u001b[0;34m:\u001b[0m\u001b[0;34m\u001b[0m\u001b[0m\n\u001b[1;32m     61\u001b[0m             \u001b[0;32mraise\u001b[0m \u001b[0mRuntimeError\u001b[0m\u001b[0;34m(\u001b[0m\u001b[0;34m\"generator didn't yield\"\u001b[0m\u001b[0;34m)\u001b[0m \u001b[0;32mfrom\u001b[0m \u001b[0;32mNone\u001b[0m\u001b[0;34m\u001b[0m\u001b[0m\n",
      "\u001b[0;32m/usr/local/lib/python3.5/dist-packages/matplotlib/cbook/__init__.py\u001b[0m in \u001b[0;36mopen_file_cm\u001b[0;34m(path_or_file, mode, encoding)\u001b[0m\n\u001b[1;32m    405\u001b[0m \u001b[0;32mdef\u001b[0m \u001b[0mopen_file_cm\u001b[0m\u001b[0;34m(\u001b[0m\u001b[0mpath_or_file\u001b[0m\u001b[0;34m,\u001b[0m \u001b[0mmode\u001b[0m\u001b[0;34m=\u001b[0m\u001b[0;34m\"r\"\u001b[0m\u001b[0;34m,\u001b[0m \u001b[0mencoding\u001b[0m\u001b[0;34m=\u001b[0m\u001b[0;32mNone\u001b[0m\u001b[0;34m)\u001b[0m\u001b[0;34m:\u001b[0m\u001b[0;34m\u001b[0m\u001b[0m\n\u001b[1;32m    406\u001b[0m     \u001b[0;34mr\"\"\"Pass through file objects and context-manage `.PathLike`\\s.\"\"\"\u001b[0m\u001b[0;34m\u001b[0m\u001b[0m\n\u001b[0;32m--> 407\u001b[0;31m     \u001b[0mfh\u001b[0m\u001b[0;34m,\u001b[0m \u001b[0mopened\u001b[0m \u001b[0;34m=\u001b[0m \u001b[0mto_filehandle\u001b[0m\u001b[0;34m(\u001b[0m\u001b[0mpath_or_file\u001b[0m\u001b[0;34m,\u001b[0m \u001b[0mmode\u001b[0m\u001b[0;34m,\u001b[0m \u001b[0;32mTrue\u001b[0m\u001b[0;34m,\u001b[0m \u001b[0mencoding\u001b[0m\u001b[0;34m)\u001b[0m\u001b[0;34m\u001b[0m\u001b[0m\n\u001b[0m\u001b[1;32m    408\u001b[0m     \u001b[0;32mif\u001b[0m \u001b[0mopened\u001b[0m\u001b[0;34m:\u001b[0m\u001b[0;34m\u001b[0m\u001b[0m\n\u001b[1;32m    409\u001b[0m         \u001b[0;32mwith\u001b[0m \u001b[0mfh\u001b[0m\u001b[0;34m:\u001b[0m\u001b[0;34m\u001b[0m\u001b[0m\n",
      "\u001b[0;32m/usr/local/lib/python3.5/dist-packages/matplotlib/cbook/__init__.py\u001b[0m in \u001b[0;36mto_filehandle\u001b[0;34m(fname, flag, return_opened, encoding)\u001b[0m\n\u001b[1;32m    390\u001b[0m             \u001b[0mfh\u001b[0m \u001b[0;34m=\u001b[0m \u001b[0mbz2\u001b[0m\u001b[0;34m.\u001b[0m\u001b[0mBZ2File\u001b[0m\u001b[0;34m(\u001b[0m\u001b[0mfname\u001b[0m\u001b[0;34m,\u001b[0m \u001b[0mflag\u001b[0m\u001b[0;34m)\u001b[0m\u001b[0;34m\u001b[0m\u001b[0m\n\u001b[1;32m    391\u001b[0m         \u001b[0;32melse\u001b[0m\u001b[0;34m:\u001b[0m\u001b[0;34m\u001b[0m\u001b[0m\n\u001b[0;32m--> 392\u001b[0;31m             \u001b[0mfh\u001b[0m \u001b[0;34m=\u001b[0m \u001b[0mopen\u001b[0m\u001b[0;34m(\u001b[0m\u001b[0mfname\u001b[0m\u001b[0;34m,\u001b[0m \u001b[0mflag\u001b[0m\u001b[0;34m,\u001b[0m \u001b[0mencoding\u001b[0m\u001b[0;34m=\u001b[0m\u001b[0mencoding\u001b[0m\u001b[0;34m)\u001b[0m\u001b[0;34m\u001b[0m\u001b[0m\n\u001b[0m\u001b[1;32m    393\u001b[0m         \u001b[0mopened\u001b[0m \u001b[0;34m=\u001b[0m \u001b[0;32mTrue\u001b[0m\u001b[0;34m\u001b[0m\u001b[0m\n\u001b[1;32m    394\u001b[0m     \u001b[0;32melif\u001b[0m \u001b[0mhasattr\u001b[0m\u001b[0;34m(\u001b[0m\u001b[0mfname\u001b[0m\u001b[0;34m,\u001b[0m \u001b[0;34m'seek'\u001b[0m\u001b[0;34m)\u001b[0m\u001b[0;34m:\u001b[0m\u001b[0;34m\u001b[0m\u001b[0m\n",
      "\u001b[0;31mFileNotFoundError\u001b[0m: [Errno 2] No such file or directory: 'graphs/cost/dust_mage.png'"
     ]
    },
    {
     "data": {
      "image/png": "[encoded data removed]",
      "text/plain": [
       "<Figure size 432x288 with 1 Axes>"
      ]
     },
     "metadata": {
      "needs_background": "light"
     },
     "output_type": "display_data"
    }
   ],
   "source": [
    "plt.hist(decks[filter_mage_decks].craft_cost, color= \"blue\", histtype=\"bar\")\n",
    "plt.title(\"Custo do Baralho (Mage)\")\n",
    "plt.xlabel(\"Custo (Dust)\")\n",
    "plt.ylabel(\"Ocorrências\")\n",
    "plt.savefig(\"graphs/cost/dust_mage.png\",dpi=300)\n",
    "plt.show()\n",
    "\n",
    "plt.hist(decks[filter_priest_decks].craft_cost, color= \"magenta\", histtype=\"bar\")\n",
    "plt.title(\"Custo do Baralho (Priest)\")\n",
    "plt.xlabel(\"Custo (Dust)\")\n",
    "plt.ylabel(\"Ocorrências\")\n",
    "plt.savefig(\"graphs/cost/dust_priest.png\",dpi=300)\n",
    "plt.show()\n",
    "\n",
    "plt.hist(decks[filter_paladin_decks].craft_cost, color= \"yellow\", histtype=\"bar\")\n",
    "plt.title(\"Custo do Baralho (Paladin)\")\n",
    "plt.xlabel(\"Custo (Dust)\")\n",
    "plt.ylabel(\"Ocorrências\")\n",
    "plt.savefig(\"graphs/cost/dust_paladin.png\",dpi=300)\n",
    "plt.show()\n",
    "\n",
    "plt.hist(decks[filter_warlock_decks].craft_cost, color= \"#554c70\", histtype=\"bar\")\n",
    "plt.title(\"Custo do Baralho (Warlock)\")\n",
    "plt.xlabel(\"Custo (Dust)\")\n",
    "plt.ylabel(\"Ocorrências\")\n",
    "plt.savefig(\"graphs/cost/dust_warlock.png\",dpi=300)\n",
    "plt.show()\n",
    "\n",
    "plt.hist(decks[filter_druid_decks].craft_cost, color= \"cyan\", histtype=\"bar\")\n",
    "plt.title(\"Custo do Baralho (Druid)\")\n",
    "plt.xlabel(\"Custo (Dust)\")\n",
    "plt.ylabel(\"Ocorrências\")\n",
    "plt.savefig(\"graphs/cost/dust_druid.png\",dpi=300)\n",
    "plt.show()\n",
    "\n",
    "plt.hist(decks[filter_shaman_decks].craft_cost, color= \"purple\", histtype=\"bar\")\n",
    "plt.title(\"Custo do Baralho (Shaman)\")\n",
    "plt.xlabel(\"Custo (Dust)\")\n",
    "plt.ylabel(\"Ocorrências\")\n",
    "plt.savefig(\"graphs/cost/dust_druid.png\",dpi=300)\n",
    "plt.show()\n",
    "\n",
    "plt.hist(decks[filter_warrior_decks].craft_cost, color= \"red\", histtype=\"bar\")\n",
    "plt.title(\"Custo do Baralho (Warrior)\")\n",
    "plt.xlabel(\"Custo (Dust)\")\n",
    "plt.ylabel(\"Ocorrências\")\n",
    "plt.savefig(\"graphs/cost/dust_warrior.png\",dpi=300)\n",
    "plt.show()\n",
    "\n",
    "plt.hist(decks[filter_rogue_decks].craft_cost, color= \"gray\", histtype=\"bar\")\n",
    "plt.title(\"Custo do Baralho (Rogue)\")\n",
    "plt.xlabel(\"Custo (Dust)\")\n",
    "plt.ylabel(\"Ocorrências\")\n",
    "plt.savefig(\"graphs/cost/dust_rogue.png\",dpi=300)\n",
    "plt.show()\n",
    "\n",
    "plt.hist(decks[filter_hunter_decks].craft_cost, color= \"green\", histtype=\"bar\")\n",
    "plt.title(\"Custo do Baralho (Hunter)\")\n",
    "plt.xlabel(\"Custo (Dust)\")\n",
    "plt.ylabel(\"Ocorrências\")\n",
    "plt.savefig(\"graphs/cost/dust_hunter.png\",dpi=300)\n",
    "plt.show()"
   ]
  },
  {
   "cell_type": "code",
   "execution_count": null,
   "metadata": {},
   "outputs": [],
   "source": [
    "x = refs['cardClass'].value_counts()\n",
    "x.plot.bar(title='Quantidades de cartas por Classe', legend=None)\n",
    "plt.tight_layout()\n",
    "plt.savefig(\"Regional.png\", dpi=300)\n",
    "plt.show()\n",
    "# n_bans_1 = bans['ban_1'].value_counts()\n",
    "# n_bans_1.plot.bar(title='Bans da Partida', legend=None)\n",
    "# plt.tight_layout()\n",
    "# plt.savefig(\"Bans.png\", dpi=300)\n",
    "# plt.show()"
   ]
  },
  {
   "cell_type": "markdown",
   "metadata": {},
   "source": [
    "<h4>Boxplot</h4>"
   ]
  },
  {
   "cell_type": "code",
   "execution_count": null,
   "metadata": {},
   "outputs": [],
   "source": [
    "refs.plot.box()\n",
    "match_info[\"gamelength\"].plot.box()\n",
    "result_match = league_of_legends[['bResult', 'rResult']]\n",
    "plt.boxplot(match_info[\"gamelength\"] + structures[\"Time\"])\n",
    "plt.boxplot(match_info.gamelength)\n",
    "x = [refs.cost, refs.attack, refs.health, refs.spellDamage]\n",
    "plt.boxplot(x)"
   ]
  },
  {
   "cell_type": "markdown",
   "metadata": {},
   "source": [
    "<h4>Pizza</h4>"
   ]
  },
  {
   "cell_type": "code",
   "execution_count": 13,
   "metadata": {},
   "outputs": [
    {
     "ename": "NameError",
     "evalue": "name 'classes' is not defined",
     "output_type": "error",
     "traceback": [
      "\u001b[0;31m---------------------------------------------------------------------------\u001b[0m",
      "\u001b[0;31mNameError\u001b[0m                                 Traceback (most recent call last)",
      "\u001b[0;32m<ipython-input-13-9ac2cf9b5647>\u001b[0m in \u001b[0;36m<module>\u001b[0;34m\u001b[0m\n\u001b[0;32m----> 1\u001b[0;31m \u001b[0mclasses\u001b[0m\u001b[0;34m.\u001b[0m\u001b[0mplot\u001b[0m\u001b[0;34m.\u001b[0m\u001b[0mpie\u001b[0m\u001b[0;34m(\u001b[0m\u001b[0;34m)\u001b[0m\u001b[0;34m\u001b[0m\u001b[0m\n\u001b[0m",
      "\u001b[0;31mNameError\u001b[0m: name 'classes' is not defined"
     ]
    }
   ],
   "source": [
    "classes.plot.pie()"
   ]
  },
  {
   "cell_type": "markdown",
   "metadata": {},
   "source": [
    "<h4>Bubble</h4>"
   ]
  },
  {
   "cell_type": "code",
   "execution_count": 42,
   "metadata": {},
   "outputs": [
    {
     "data": {
      "text/plain": [
       "<matplotlib.axes._subplots.AxesSubplot at 0x7f0a8c72abe0>"
      ]
     },
     "execution_count": 42,
     "metadata": {},
     "output_type": "execute_result"
    },
    {
     "data": {
      "image/png": "[encoded data removed]",
      "text/plain": [
       "<Figure size 432x288 with 1 Axes>"
      ]
     },
     "metadata": {
      "needs_background": "light"
     },
     "output_type": "display_data"
    }
   ],
   "source": [
    "import seaborn as sns\n",
    "\n",
    "refs.columns\n",
    "sns.scatterplot(refs.collectible, refs.cost)"
   ]
  },
  {
   "cell_type": "code",
   "execution_count": 1,
   "metadata": {},
   "outputs": [
    {
     "ename": "NameError",
     "evalue": "name 'plt' is not defined",
     "output_type": "error",
     "traceback": [
      "\u001b[0;31m---------------------------------------------------------------------------\u001b[0m",
      "\u001b[0;31mNameError\u001b[0m                                 Traceback (most recent call last)",
      "\u001b[0;32m<ipython-input-1-2eb6917f3301>\u001b[0m in \u001b[0;36m<module>\u001b[0;34m\u001b[0m\n\u001b[0;32m----> 1\u001b[0;31m \u001b[0mplt\u001b[0m\u001b[0;34m.\u001b[0m\u001b[0mscatter\u001b[0m\u001b[0;34m(\u001b[0m\u001b[0mkills\u001b[0m\u001b[0;34m[\u001b[0m\u001b[0;34m'x_pos'\u001b[0m\u001b[0;34m]\u001b[0m\u001b[0;34m,\u001b[0m \u001b[0mkills\u001b[0m\u001b[0;34m[\u001b[0m\u001b[0;34m'y_pos'\u001b[0m\u001b[0;34m]\u001b[0m\u001b[0;34m)\u001b[0m\u001b[0;34m\u001b[0m\u001b[0m\n\u001b[0m\u001b[1;32m      2\u001b[0m \u001b[0;31m# plt.scatter(gold['min_3'],gold['min_4'])\u001b[0m\u001b[0;34m\u001b[0m\u001b[0;34m\u001b[0m\u001b[0m\n\u001b[1;32m      3\u001b[0m \u001b[0;31m# plt.scatter(gold['min_5'],gold['min_6'])\u001b[0m\u001b[0;34m\u001b[0m\u001b[0;34m\u001b[0m\u001b[0m\n",
      "\u001b[0;31mNameError\u001b[0m: name 'plt' is not defined"
     ]
    }
   ],
   "source": [
    "plt.scatter(kills['x_pos'], kills['y_pos'])\n",
    "# plt.scatter(gold['min_3'],gold['min_4'])\n",
    "# plt.scatter(gold['min_5'],gold['min_6'])\n"
   ]
  },
  {
   "cell_type": "markdown",
   "metadata": {},
   "source": [
    "<h4><strong>Conclusão</strong></h4>\n",
    "       <br> É possivel integrar o Python com frameworks para Web (como Django ou Flask) e com outras linguagens (como Javascript), o que aumenta as possibilidades de desenvolvimento. Além disso, existem diversas bibliotecas disponíveis para análise de dados. Este pacote inclui diversas utilidades, entre elas o Pandas, Numpy, Holoviews. Além disso, por ser mais antigo, Python é mais robusto e menos propenso a mudanças drásticas. \n",
    "    <br>  Python é uma linguagem de propósito geral bem estabelecida, ao contrário do R que é uma linguagem mais especializada e do Júlia que é uma linguagem relativamente nova, sendo assim a experiência adiquirida terá um maior potêncial de uso em aplicações futuras, seja em outros trabalhos ou no mercado.\n",
    "    <br> Apesar da deficiência do Python para programação paralela, acreditamos que a facilidade de codificar usando a linguagem trará uma vantagem mais significativa do que tempo de execução e mais liberdade para focar na análise dos dados, sem se preocupar com aprender as nuances de uma nova linguagem.\n",
    "    <br> Existem também uma biblioteca para rodar códico R em python caso alguma funcionalidade específica do R seja necessária."
   ]
  },
  {
   "cell_type": "markdown",
   "metadata": {},
   "source": [
    "# Referências:\n",
    "\n",
    "<h4>League of Legends - Competitive Matches, 2015 to 2018</h4>\n",
    "(https://www.kaggle.com/chuckephron/leagueoflegends)\n",
    "\n",
    "<br>https://www.python.org\n",
    "<br>Python for Data Analysis: Data Wrangling with Pandas, NumPy, and IPython Por Wes McKinney\n",
    "<br>https://books.google.com.br/books?hl=pt-BR&lr=&id=v3n4_AK8vu0C&oi=fnd&pg=PR3&dq=python+for+data+analysis&ots=rgJL4hyrqx&sig=v6onow7Ag9Qs4S11awiGeHLpSd4#v=onepage&q&f=false\n",
    "<br>http://www.cienciaedados.com/por-que-cientistas-de-dados-escolhem-python/\n",
    "<br>https://www.cbtnuggets.com/blog/technology/data/why-data-scientists-love-python    \n",
    "https://hackncast.org/v06-python\n",
    "<br>https://minerandodados.com.br/por-que-o-python-e-a-linguagem-mais-adotada-na-area-de-data-science/\n",
    "<br>Wes McKinney Python for Data Analysis: Data Wrangling with Pandas, NumPy, and IPython (2012)\n",
    "<br>https://cio.com.br/julia-vs-python-qual-e-a-melhor-para-a-ciencia-de-dados/\n",
    "<br>http://datascienceacademy.com.br/blog/top-20-bibliotecas-python-para-data-science/\n"
   ]
  },
  {
   "cell_type": "code",
   "execution_count": 11,
   "metadata": {
    "scrolled": true
   },
   "outputs": [],
   "source": [
    "\n",
    "#url = \"https://...\"\n",
    "#s= requests.get(url).content #Puxa uma url da rede \n",
    "#c= pd.read_csv(io.StringIO(s.decode('utf-8'))) #Puxa um dataset da url\n",
    "\n",
    "#FICO BUNITO MAIS DEU BOSTA\n",
    "#for x in arquivos:\n",
    "#    dataset = pandas.read_csv('/home/' + str(user) + '/Downloads/datasets/' + str(x))\n",
    "#    lista_temp = {\n",
    "#    \n",
    "#        'nome': x,\n",
    "#        'dataset': dataset,\n",
    "#    }\n",
    "#    lista_datasets.append(lista_temp)\n",
    "\n",
    "# print(league_of_legends) \n",
    "# league = league_of_legends[[\"League\", \"bResult\"]] #Dois Colchetes = Selecionar linhas e colunas de um único dataset\n",
    "# print(league)\n",
    "#league_of_legends.loc[0] # Seleciona uma Linha do dataset\n",
    "# league_of_legends.iloc[0] # Seleciona uma Linha do dataset\n",
    "# league_of_legends.loc[[0]] # Seleciona uma Linha do dataset\n",
    "# league_of_legends.iloc[[0]] # Seleciona uma Linha do dataset\n",
    "\n",
    "# league_of_legends_nalcs_btag = league\n",
    "# league_nalcs_2015 = league_nalcs and league_2015\n",
    "# # print(league_nalcs)\n",
    "# print(league_of_legends[league_nalcs_2015])"
   ]
  },
  {
   "cell_type": "code",
   "execution_count": null,
   "metadata": {},
   "outputs": [],
   "source": []
  },
  {
   "cell_type": "code",
   "execution_count": null,
   "metadata": {},
   "outputs": [],
   "source": []
  }
 ],
 "metadata": {
  "kernelspec": {
   "display_name": "Python 3",
   "language": "python",
   "name": "python3"
  },
  "language_info": {
   "codemirror_mode": {
    "name": "ipython",
    "version": 3
   },
   "file_extension": ".py",
   "mimetype": "text/x-python",
   "name": "python",
   "nbconvert_exporter": "python",
   "pygments_lexer": "ipython3",
   "version": "3.5.3"
  }
 },
 "nbformat": 4,
 "nbformat_minor": 2
}
