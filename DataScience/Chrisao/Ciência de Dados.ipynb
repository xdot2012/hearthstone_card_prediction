{
 "cells": [
  {
   "cell_type": "markdown",
   "metadata": {},
   "source": [
    "# Trabalho Ciência de dados"
   ]
  },
  {
   "cell_type": "markdown",
   "metadata": {},
   "source": [
    "<h4>Grupo:</h4>\n",
    "<p>\n",
    "    <br>Christopher Martins\n",
    "    <br>Daniel Lopes\n",
    "    <br>Douglas Gonçalves Sales\n",
    "</p>"
   ]
  },
  {
   "cell_type": "markdown",
   "metadata": {},
   "source": [
    "# Sobre a Linguagem\n",
    "\n",
    " O Python é uma linguagem interpretada de alto nível e foi escolhida pelo mérito acumulado ao longo de 28 anos de desenvolvimento.\n",
    "\n",
    "<h4><strong>Facilidade de Aprendizado e de Uso:</strong></h4>\n",
    "    <br>Python é uma linguagem de alto nível e de fácil aprendizado. Com isso, podemos começar a analisar os dados sem perder tempo descobrindo particularides da linguagem. De acordo com Stackoverflow, de 2018, o Python é a linguagem de programação mais popular do mundo, e é considerada uma linguagem para iniciantes, onde qualquer pessoa que possua um conhecimento básico de programação consegue utiliza-la.   \n",
    "    \n",
    "<h4><strong>Grande Comunidade:</strong></h4>\n",
    "    <br>A linguagem é amplamente utilizada para ciência de dados, e possui uma comunidade expecialista e colaborativa. O problema que um utilizador novato de Python vivencia, provavelmente já foi resolvido por um outro usuário mais experiente.  \n",
    "    \n",
    "<h4><strong>Grande Número de Bibliotecas e Frameworks:</strong></h4> \n",
    "    <br>A linguagem Python possui uma enorme variablidade de bibliotecas, desde a mais básicas como expressões regulares até inteligência artificial e aprendizado ao homem máquina, conexões HTTP seguras, processamento de XML e HTML, bancos de dados, net scraping, etc.  \n",
    "\n",
    "<h4><strong>Atualizada Constantemente:</strong></h4>\n",
    "    <br>Python é uma linguagem em desenvolvimento, constantemente atualizada. Muitos dos problemas vivenciados a pouco tempo atrás já não existem mais, e os problemas que existem hoje podem não existirão mais daqui a algum tempo.\n",
    "\n",
    "<h4><strong>Popularidade no Mercado:</strong></h4>\n",
    "   <br>Desde seu lançamento em 1991, Python têm evoluido para se tornar uma das linguagens de programação mais dinâmicas e populares no mercado visto que é extremamente versátil. eSeu uso se extende desde análise de dados até aplicações web e aprendizagem de máquina.\n",
    "       "
   ]
  },
  {
   "cell_type": "markdown",
   "metadata": {},
   "source": [
    "# Dataset"
   ]
  },
  {
   "cell_type": "markdown",
   "metadata": {},
   "source": [
    "# Pandas e NumPy\n",
    "\n",
    "Duas das bibliotecas mais usadas para análise de dados são o Pandas e o NumPy, de acordo com datascienceacademy. Ambos serão utilizados neste trabalho.\n",
    "Pandas é uma biblioteca Python para análises de dados que, de acordo com a documentação oficial, é de alta performance e de fácil utilização. Entre suas funcionalidades a mais comum é a de importação de arquivos CSV através do comando pandas.read_csv() que gera um arquivo do tipo \"DataFrame\", que pode então ser análisado e editado.\n"
   ]
  },
  {
   "cell_type": "markdown",
   "metadata": {},
   "source": [
    "<strong>Arquivos no Dataset:</strong>\n",
    "\n",
    "<strong>1- data.csv:</strong>\n",
    "Contém informações sobre os decks(baralhos), os usuários, as cartas e a data de retirada dos dados.\n",
    "\n",
    "<strong>craft_cost:</strong> Custo da contrução do baralho;<br>\n",
    "<strong>date:</strong> Data de postagem do baralho;<br>\n",
    "<strong>deck_archetype:</strong> Classificação dada de acordo com a tipagem do baralho;<br>\n",
    "<strong>deck_class:</strong> Nome da clase correspondente a cada baralho;<br>\n",
    "<strong>deck_format:</strong> Categoria que determina quais cartas são permitidas em cada baralho;<br>\n",
    "<strong>deck_id:</strong> Chave única que representa cada baralho;<br>\n",
    "<strong>deck_set:</strong> Expansão mais recente correspondente a cada baralho;<br>\n",
    "<strong>deck_type:</strong> Modo de jogo(neste trabalho limitamos o escopo à somente partidas ranqueadas);<br>\n",
    "<strong>rating:</strong> Nota atribuída ao baralho no site hearthpwm.com;<br>\n",
    "<strong>title:</strong> Nome do baralho;<br>\n",
    "<strong>user:</strong> Nome do autor do baralho;<br>\n",
    "<strong>card_0 até card_29:</strong> Id de cada carta; \n",
    "\n",
    "<strong>2- refs.json:</strong>\n",
    "Contém as referências das cartas.\n",
    "\n",
    "<strong>artist:</strong> Autor da arte da carta;<br>\n",
    "<strong>attack:</strong> Poder de ataque da carta;<br>\n",
    "<strong>cardClass:</strong> Classe da carta;<br>\n",
    "<strong>classes:</strong> Classe do herói;<br>\n",
    "<strong>collectible:</strong> Determinante de disponibilidade de adquirir a carta;<br>\n",
    "<strong>collectionText:</strong> Coleção da carta;<br>\n",
    "<strong>cost:</strong> Custo da carta em Dust;<br>\n",
    "<strong>dbfId:</strong> Id da carta referenciado no arquivo data.csv;<br>\n",
    "<strong>durability:</strong> Valor de durabilidade de cartas do tipo arma; <br>\n",
    "<strong>elite:</strong> Determina se a carta é de elite ou não;<br>\n",
    "<strong>faction:</strong> Facção da carta(Horda ou Aliança);<br>\n",
    "<strong>flavor:</strong> Texto fantasioso da carta;<br>\n",
    "<strong>health:</strong> Quantidade de vida de cada baralho;<br>\n",
    "<strong>howToEarn:</strong> Pré-requisito para adquirir a carta;<br>\n",
    "<strong>howToEarnGolden:</strong> Pré-requisito para adquirir a versão dourada da carta;<br>\n",
    "<strong>id:</strong> Chave da carta no jogo;<br>\n",
    "<strong>mechanics:</strong> Características que determinam certos efeitos da carta;<br>\n",
    "<strong>name:</strong> Nome da carta;<br>\n",
    "<strong>overload:</strong> Valor que determina o efeito de uma mecânica do jogo;<br>\n",
    "<strong>playRequirements:</strong> Pré-requisitos para o uso da carta;<br>\n",
    "<strong>playerClass:</strong> Classe do herói; <br>\n",
    "<strong>race:</strong> Raça da carta de monstro;<br>\n",
    "<strong>rarity:</strong>Raridade da carta;<br>\n",
    "<strong>referencedTags:</strong> Características que determinam certos efeitos da carta;<br>\n",
    "<strong>set:</strong> Expansão na qual a carta foi lançada;<br>\n",
    "<strong>spellDamage:</strong> Dano mágico da carta;<br>\n",
    "<strong>targetingArrowText:</strong> Dados referentes a carta;<br>\n",
    "<strong>text:</strong> Descrição da carta;<br>\n",
    "<strong>type:</strong> Tipo da carta;\n",
    "\n",
    "\n"
   ]
  },
  {
   "cell_type": "markdown",
   "metadata": {},
   "source": [
    "<h4><strong>Arquivos do Dataset</strong></h4>"
   ]
  },
  {
   "cell_type": "code",
   "execution_count": 10,
   "metadata": {},
   "outputs": [
    {
     "ename": "NameError",
     "evalue": "name 'data' is not defined",
     "output_type": "error",
     "traceback": [
      "\u001b[0;31m---------------------------------------------------------------------------\u001b[0m",
      "\u001b[0;31mNameError\u001b[0m                                 Traceback (most recent call last)",
      "\u001b[0;32m<ipython-input-10-152ae290f9da>\u001b[0m in \u001b[0;36m<module>\u001b[0;34m\u001b[0m\n\u001b[1;32m      4\u001b[0m \u001b[0mpath\u001b[0m \u001b[0;34m=\u001b[0m \u001b[0mstr\u001b[0m\u001b[0;34m(\u001b[0m\u001b[0;34m\"/home/\"\u001b[0m \u001b[0;34m+\u001b[0m \u001b[0mstr\u001b[0m\u001b[0;34m(\u001b[0m\u001b[0muser\u001b[0m\u001b[0;34m)\u001b[0m \u001b[0;34m+\u001b[0m \u001b[0;34m\"/datasets/\"\u001b[0m\u001b[0;34m)\u001b[0m\u001b[0;34m\u001b[0m\u001b[0m\n\u001b[1;32m      5\u001b[0m \u001b[0mos\u001b[0m\u001b[0;34m.\u001b[0m\u001b[0mlistdir\u001b[0m\u001b[0;34m(\u001b[0m\u001b[0mpath\u001b[0m\u001b[0;34m)\u001b[0m\u001b[0;34m\u001b[0m\u001b[0m\n\u001b[0;32m----> 6\u001b[0;31m \u001b[0mdata\u001b[0m\u001b[0;34m.\u001b[0m\u001b[0mcolumns\u001b[0m\u001b[0;34m\u001b[0m\u001b[0m\n\u001b[0m",
      "\u001b[0;31mNameError\u001b[0m: name 'data' is not defined"
     ]
    }
   ],
   "source": [
    "import getpass, os, pandas, requests, math\n",
    "\n",
    "user = getpass.getuser()\n",
    "path = str(\"/home/\" + str(user) + \"/datasets/\")\n",
    "os.listdir(path)\n"
   ]
  },
  {
   "cell_type": "markdown",
   "metadata": {},
   "source": [
    "<h4><strong>Importação</strong></h4>"
   ]
  },
  {
   "cell_type": "code",
   "execution_count": 13,
   "metadata": {},
   "outputs": [
    {
     "data": {
      "text/plain": [
       "Index(['artist', 'attack', 'cardClass', 'classes', 'collectible',\n",
       "       'collectionText', 'cost', 'dbfId', 'durability', 'elite', 'entourage',\n",
       "       'faction', 'flavor', 'health', 'hideStats', 'howToEarn',\n",
       "       'howToEarnGolden', 'id', 'mechanics', 'multiClassGroup', 'name',\n",
       "       'overload', 'playRequirements', 'playerClass', 'race', 'rarity',\n",
       "       'referencedTags', 'set', 'spellDamage', 'targetingArrowText', 'text',\n",
       "       'type'],\n",
       "      dtype='object')"
      ]
     },
     "execution_count": 13,
     "metadata": {},
     "output_type": "execute_result"
    }
   ],
   "source": [
    "data = pandas.read_csv(path + str(\"data.csv\"))\n",
    "refs = pandas.read_json(path + str(\"refs.json\"))\n",
    "data.columns\n"
   ]
  },
  {
   "cell_type": "markdown",
   "metadata": {},
   "source": [
    "<h4><strong>Limpeza dos Dados</strong></h4>"
   ]
  },
  {
   "cell_type": "code",
   "execution_count": null,
   "metadata": {},
   "outputs": [],
   "source": []
  },
  {
   "cell_type": "code",
   "execution_count": null,
   "metadata": {},
   "outputs": [],
   "source": []
  },
  {
   "cell_type": "markdown",
   "metadata": {},
   "source": [
    "<h4><strong>Filtragem de Dados</strong></h4>"
   ]
  },
  {
   "cell_type": "code",
   "execution_count": 14,
   "metadata": {},
   "outputs": [
    {
     "name": "stdout",
     "output_type": "stream",
     "text": [
      "Index(['craft_cost', 'date', 'deck_archetype', 'deck_class', 'deck_format',\n",
      "       'deck_id', 'deck_set', 'deck_type', 'rating', 'title', 'user', 'card_0',\n",
      "       'card_1', 'card_2', 'card_3', 'card_4', 'card_5', 'card_6', 'card_7',\n",
      "       'card_8', 'card_9', 'card_10', 'card_11', 'card_12', 'card_13',\n",
      "       'card_14', 'card_15', 'card_16', 'card_17', 'card_18', 'card_19',\n",
      "       'card_20', 'card_21', 'card_22', 'card_23', 'card_24', 'card_25',\n",
      "       'card_26', 'card_27', 'card_28', 'card_29'],\n",
      "      dtype='object')\n"
     ]
    },
    {
     "data": {
      "text/plain": [
       "Index(['artist', 'attack', 'cardClass', 'classes', 'collectible',\n",
       "       'collectionText', 'cost', 'dbfId', 'durability', 'elite', 'entourage',\n",
       "       'faction', 'flavor', 'health', 'hideStats', 'howToEarn',\n",
       "       'howToEarnGolden', 'id', 'mechanics', 'multiClassGroup', 'name',\n",
       "       'overload', 'playRequirements', 'playerClass', 'race', 'rarity',\n",
       "       'referencedTags', 'set', 'spellDamage', 'targetingArrowText', 'text',\n",
       "       'type'],\n",
       "      dtype='object')"
      ]
     },
     "execution_count": 14,
     "metadata": {},
     "output_type": "execute_result"
    }
   ],
   "source": [
    "class_count = data['deck_class'].value_counts()\n",
    "class_dict = class_count.index\n",
    "title_count = data['title'].value_counts()\n",
    "decks_year = data['date'].str.slice(0,4)\n",
    "len(data['deck_archetype'].value_counts())\n",
    "\n",
    "ranked_filter = data['deck_type'] == 'Ranked Deck'\n",
    "data = data[ranked_filter]\n",
    "\n",
    "filter_decks_2017 = decks_year == '2017'\n",
    "filter_decks_2016 = decks_year == '2016'\n",
    "filter_decks_2015 = decks_year == '2015'\n",
    "filter_decks_2014 = decks_year == '2014'\n",
    "filter_decks_2013 = decks_year == '2013'\n",
    "\n",
    "filter_mage_decks = data['deck_class'] == class_dict[0]\n",
    "filter_priest_decks = data['deck_class'] == class_dict[1]\n",
    "filter_paladin_decks = data['deck_class'] == class_dict[2]\n",
    "filter_warlock_decks = data['deck_class'] == class_dict[3]\n",
    "filter_druid_decks = data['deck_class'] == class_dict[4]\n",
    "filter_shaman_decks = data['deck_class'] == class_dict[5]\n",
    "filter_warrior_decks = data['deck_class'] == class_dict[6]\n",
    "filter_rogue_decks = data['deck_class'] == class_dict[7]\n",
    "filter_hunter_decks = data['deck_class'] == class_dict[8]\n",
    "filter_wild = data['deck_format'] == 'W'\n",
    "filter_standard = data['deck_format'] == 'S'\n",
    "\n",
    "filter_mage_standard_decks = filter_standard & filter_mage_decks\n",
    "filter_mage_wild_decks = filter_wild & filter_mage_decks\n",
    "filter_priest_standard_decks = filter_standard & filter_priest_decks\n",
    "filter_priest_wild_decks = filter_wild & filter_priest_decks\n",
    "filter_paladin_standard_decks = filter_standard & filter_paladin_decks\n",
    "filter_paladin_wild_decks = filter_wild & filter_paladin_decks\n",
    "filter_warlock_standard_decks = filter_standard & filter_warlock_decks\n",
    "filter_warlock_wild_decks = filter_wild & filter_warlock_decks\n",
    "filter_druid_standard_decks = filter_standard & filter_druid_decks\n",
    "filter_druid_wild_decks = filter_wild & filter_druid_decks\n",
    "filter_shaman_standard_decks = filter_standard & filter_shaman_decks\n",
    "filter_shaman_wild_decks = filter_wild & filter_shaman_decks\n",
    "filter_warrior_standard_decks = filter_standard & filter_warrior_decks\n",
    "filter_warrior_wild_decks = filter_wild & filter_warrior_decks\n",
    "filter_rogue_standard_decks = filter_standard & filter_rogue_decks\n",
    "filter_rogue_wild_decks = filter_wild & filter_rogue_decks\n",
    "filter_hunter_standard_decks = filter_standard & filter_hunter_decks\n",
    "filter_hunter_wild_decks = filter_wild & filter_hunter_decks\n",
    "\n",
    "i = 0\n",
    "print(data.columns)\n",
    "refs.columns"
   ]
  },
  {
   "cell_type": "code",
   "execution_count": 7,
   "metadata": {},
   "outputs": [
    {
     "ename": "NameError",
     "evalue": "name 'data' is not defined",
     "output_type": "error",
     "traceback": [
      "\u001b[0;31m---------------------------------------------------------------------------\u001b[0m",
      "\u001b[0;31mNameError\u001b[0m                                 Traceback (most recent call last)",
      "\u001b[0;32m<ipython-input-7-593cc3a56461>\u001b[0m in \u001b[0;36m<module>\u001b[0;34m\u001b[0m\n\u001b[1;32m      1\u001b[0m \u001b[0mlista\u001b[0m \u001b[0;34m=\u001b[0m \u001b[0;34m[\u001b[0m\u001b[0;34m]\u001b[0m\u001b[0;34m\u001b[0m\u001b[0m\n\u001b[1;32m      2\u001b[0m \u001b[0mlista_temp\u001b[0m \u001b[0;34m=\u001b[0m \u001b[0;34m[\u001b[0m\u001b[0;34m]\u001b[0m\u001b[0;34m\u001b[0m\u001b[0m\n\u001b[0;32m----> 3\u001b[0;31m \u001b[0;32mfor\u001b[0m \u001b[0mx\u001b[0m \u001b[0;32min\u001b[0m \u001b[0mrange\u001b[0m\u001b[0;34m(\u001b[0m\u001b[0;36m0\u001b[0m\u001b[0;34m,\u001b[0m\u001b[0;34m(\u001b[0m\u001b[0mlen\u001b[0m\u001b[0;34m(\u001b[0m\u001b[0mdata\u001b[0m\u001b[0;34m)\u001b[0m\u001b[0;34m)\u001b[0m\u001b[0;34m)\u001b[0m\u001b[0;34m:\u001b[0m\u001b[0;34m\u001b[0m\u001b[0m\n\u001b[0m\u001b[1;32m      4\u001b[0m     \u001b[0;32mfor\u001b[0m \u001b[0mi\u001b[0m \u001b[0;32min\u001b[0m \u001b[0mrange\u001b[0m\u001b[0;34m(\u001b[0m\u001b[0;36m0\u001b[0m\u001b[0;34m,\u001b[0m\u001b[0;36m1\u001b[0m\u001b[0;34m)\u001b[0m\u001b[0;34m:\u001b[0m\u001b[0;34m\u001b[0m\u001b[0m\n\u001b[1;32m      5\u001b[0m         \u001b[0mlista_temp\u001b[0m\u001b[0;34m.\u001b[0m\u001b[0mappend\u001b[0m\u001b[0;34m(\u001b[0m\u001b[0mdata\u001b[0m\u001b[0;34m.\u001b[0m\u001b[0mget_value\u001b[0m\u001b[0;34m(\u001b[0m\u001b[0mx\u001b[0m\u001b[0;34m,\u001b[0m \u001b[0;34m'card_'\u001b[0m \u001b[0;34m+\u001b[0m \u001b[0mstr\u001b[0m\u001b[0;34m(\u001b[0m\u001b[0mi\u001b[0m\u001b[0;34m)\u001b[0m\u001b[0;34m)\u001b[0m\u001b[0;34m)\u001b[0m\u001b[0;34m\u001b[0m\u001b[0m\n",
      "\u001b[0;31mNameError\u001b[0m: name 'data' is not defined"
     ]
    }
   ],
   "source": [
    "lista = []\n",
    "lista_temp = []\n",
    "for x in range(0,(len(data))):\n",
    "    for i in range(0,1):\n",
    "        lista_temp.append(data.get_value(x, 'card_' + str(i)))\n",
    "    lista.append(lista_temp)\n",
    "print('cabei')"
   ]
  },
  {
   "cell_type": "markdown",
   "metadata": {},
   "source": [
    "<h4><strong>Análise Exploratória dos Dados</strong></h4>"
   ]
  },
  {
   "cell_type": "code",
   "execution_count": 8,
   "metadata": {},
   "outputs": [],
   "source": [
    "# import math\n",
    "# \n",
    "# lista_temp = []\n",
    "# lista = []\n",
    "# for x in range(0,(math.trunc(len(data)/100))):\n",
    "#     for i in range(0,30):\n",
    "#         lista_temp.append(data.get_value(x, 'card_' + str(i)))\n",
    "#     lista.append(lista_temp)\n",
    "# print(lista)"
   ]
  },
  {
   "cell_type": "markdown",
   "metadata": {},
   "source": [
    "<h5>Histograma</h5>\n",
    "\n",
    "Média - Desvio Padrão\n",
    "Desvio ++ = maior largura da curva\n",
    "Desvio -- = menor largura da curva\n"
   ]
  },
  {
   "cell_type": "code",
   "execution_count": 6,
   "metadata": {},
   "outputs": [
    {
     "ename": "NameError",
     "evalue": "name 'match_info' is not defined",
     "output_type": "error",
     "traceback": [
      "\u001b[0;31m---------------------------------------------------------------------------\u001b[0m",
      "\u001b[0;31mNameError\u001b[0m                                 Traceback (most recent call last)",
      "\u001b[0;32m<ipython-input-6-c6062da95749>\u001b[0m in \u001b[0;36m<module>\u001b[0;34m\u001b[0m\n\u001b[1;32m      1\u001b[0m \u001b[0;32mimport\u001b[0m \u001b[0mmatplotlib\u001b[0m\u001b[0;34m.\u001b[0m\u001b[0mpyplot\u001b[0m \u001b[0;32mas\u001b[0m \u001b[0mplt\u001b[0m\u001b[0;34m\u001b[0m\u001b[0m\n\u001b[1;32m      2\u001b[0m \u001b[0;34m\u001b[0m\u001b[0m\n\u001b[0;32m----> 3\u001b[0;31m \u001b[0mplt\u001b[0m\u001b[0;34m.\u001b[0m\u001b[0mhist\u001b[0m\u001b[0;34m(\u001b[0m\u001b[0mmatch_info\u001b[0m\u001b[0;34m.\u001b[0m\u001b[0mgamelength\u001b[0m\u001b[0;34m,\u001b[0m \u001b[0mcolor\u001b[0m\u001b[0;34m=\u001b[0m \u001b[0;34m\"blue\"\u001b[0m\u001b[0;34m,\u001b[0m \u001b[0mhisttype\u001b[0m\u001b[0;34m=\u001b[0m\u001b[0;34m\"bar\"\u001b[0m\u001b[0;34m)\u001b[0m\u001b[0;34m\u001b[0m\u001b[0m\n\u001b[0m\u001b[1;32m      4\u001b[0m \u001b[0mplt\u001b[0m\u001b[0;34m.\u001b[0m\u001b[0mtitle\u001b[0m\u001b[0;34m(\u001b[0m\u001b[0;34m\"Duração da Partida\"\u001b[0m\u001b[0;34m)\u001b[0m\u001b[0;34m\u001b[0m\u001b[0m\n\u001b[1;32m      5\u001b[0m \u001b[0mplt\u001b[0m\u001b[0;34m.\u001b[0m\u001b[0mxlabel\u001b[0m\u001b[0;34m(\u001b[0m\u001b[0;34m\"Duração [min]\"\u001b[0m\u001b[0;34m)\u001b[0m\u001b[0;34m\u001b[0m\u001b[0m\n",
      "\u001b[0;31mNameError\u001b[0m: name 'match_info' is not defined"
     ]
    }
   ],
   "source": [
    "import matplotlib.pyplot as plt\n",
    " \n",
    "plt.hist(match_info.gamelength, color= \"blue\", histtype=\"bar\")\n",
    "plt.title(\"Duração da Partida\")\n",
    "plt.xlabel(\"Duração [min]\")\n",
    "plt.ylabel(\"Ocorrências\")\n",
    "plt.savefig(\"duracao_partida.png\",dpi=300)\n",
    "plt.show()\n",
    "\n",
    "plt.hist(structures.Time, color= \"yellow\", histtype=\"bar\")\n",
    "plt.title(\"Estruturas\")\n",
    "plt.xlabel(\"Minuto\")\n",
    "plt.ylabel(\"Ocorrências\")\n",
    "plt.savefig(\"estruturas_min.png\",dpi=300)\n",
    "plt.show()\n",
    "\n",
    "plt.hist(kills.Time, color= \"red\", histtype=\"bar\")\n",
    "plt.title(\"Kills\")\n",
    "plt.xlabel(\"Minuto\")\n",
    "plt.ylabel(\"Ocorrências\")\n",
    "plt.savefig(\"kills_min.png\",dpi=300)\n",
    "plt.show()\n",
    "\n",
    "plt.hist(monsters.Time, color= \"green\", histtype=\"bar\")\n",
    "plt.title(\"Monsters\")\n",
    "plt.xlabel(\"Minuto\")\n",
    "plt.ylabel(\"Ocorrências\")\n",
    "plt.savefig(\"monsters_min.png\",dpi=300)\n",
    "plt.show()"
   ]
  },
  {
   "cell_type": "code",
   "execution_count": 39,
   "metadata": {},
   "outputs": [
    {
     "data": {
      "image/png": "[encoded data removed]",
      "text/plain": [
       "<Figure size 432x288 with 1 Axes>"
      ]
     },
     "metadata": {
      "needs_background": "light"
     },
     "output_type": "display_data"
    }
   ],
   "source": [
    "x = refs['cardClass'].value_counts()\n",
    "x.plot.bar(title='Quantidades de cartas por Classe', legend=None)\n",
    "plt.tight_layout()\n",
    "plt.savefig(\"Regional.png\", dpi=300)\n",
    "plt.show()\n",
    "# n_bans_1 = bans['ban_1'].value_counts()\n",
    "# n_bans_1.plot.bar(title='Bans da Partida', legend=None)\n",
    "# plt.tight_layout()\n",
    "# plt.savefig(\"Bans.png\", dpi=300)\n",
    "# plt.show()"
   ]
  },
  {
   "cell_type": "markdown",
   "metadata": {},
   "source": [
    "<h4>Boxplot</h4>"
   ]
  },
  {
   "cell_type": "code",
   "execution_count": 44,
   "metadata": {},
   "outputs": [
    {
     "data": {
      "text/plain": [
       "{'boxes': [<matplotlib.lines.Line2D at 0x7f0a9463df60>,\n",
       "  <matplotlib.lines.Line2D at 0x7f0a94639a90>,\n",
       "  <matplotlib.lines.Line2D at 0x7f0a94636ba8>,\n",
       "  <matplotlib.lines.Line2D at 0x7f0a946316a0>],\n",
       " 'caps': [<matplotlib.lines.Line2D at 0x7f0a9463d1d0>,\n",
       "  <matplotlib.lines.Line2D at 0x7f0a9463abe0>,\n",
       "  <matplotlib.lines.Line2D at 0x7f0a94637c18>,\n",
       "  <matplotlib.lines.Line2D at 0x7f0a94637ac8>,\n",
       "  <matplotlib.lines.Line2D at 0x7f0a94634908>,\n",
       "  <matplotlib.lines.Line2D at 0x7f0a94634400>,\n",
       "  <matplotlib.lines.Line2D at 0x7f0a94630438>,\n",
       "  <matplotlib.lines.Line2D at 0x7f0a9462efd0>],\n",
       " 'fliers': [<matplotlib.lines.Line2D at 0x7f0a9463a2e8>,\n",
       "  <matplotlib.lines.Line2D at 0x7f0a94636ef0>,\n",
       "  <matplotlib.lines.Line2D at 0x7f0a94631b00>,\n",
       "  <matplotlib.lines.Line2D at 0x7f0a9462e518>],\n",
       " 'means': [],\n",
       " 'medians': [<matplotlib.lines.Line2D at 0x7f0a9463a5f8>,\n",
       "  <matplotlib.lines.Line2D at 0x7f0a946375f8>,\n",
       "  <matplotlib.lines.Line2D at 0x7f0a94631ef0>,\n",
       "  <matplotlib.lines.Line2D at 0x7f0a9462e9b0>],\n",
       " 'whiskers': [<matplotlib.lines.Line2D at 0x7f0a9463db38>,\n",
       "  <matplotlib.lines.Line2D at 0x7f0a9463d438>,\n",
       "  <matplotlib.lines.Line2D at 0x7f0a94639748>,\n",
       "  <matplotlib.lines.Line2D at 0x7f0a94639208>,\n",
       "  <matplotlib.lines.Line2D at 0x7f0a94636390>,\n",
       "  <matplotlib.lines.Line2D at 0x7f0a94634e10>,\n",
       "  <matplotlib.lines.Line2D at 0x7f0a94630f98>,\n",
       "  <matplotlib.lines.Line2D at 0x7f0a94630a20>]}"
      ]
     },
     "execution_count": 44,
     "metadata": {},
     "output_type": "execute_result"
    },
    {
     "data": {
      "image/png": "[encoded data removed]",
      "text/plain": [
       "<Figure size 432x288 with 1 Axes>"
      ]
     },
     "metadata": {
      "needs_background": "light"
     },
     "output_type": "display_data"
    }
   ],
   "source": [
    "refs.plot.box()\n",
    "match_info[\"gamelength\"].plot.box()\n",
    "result_match = league_of_legends[['bResult', 'rResult']]\n",
    "plt.boxplot(match_info[\"gamelength\"] + structures[\"Time\"])\n",
    "plt.boxplot(match_info.gamelength)\n",
    "x = [refs.cost, refs.attack, refs.health, refs.spellDamage]\n",
    "plt.boxplot(x)"
   ]
  },
  {
   "cell_type": "markdown",
   "metadata": {},
   "source": [
    "<h4>Pizza</h4>"
   ]
  },
  {
   "cell_type": "code",
   "execution_count": 9,
   "metadata": {},
   "outputs": [
    {
     "data": {
      "text/plain": [
       "<matplotlib.axes._subplots.AxesSubplot at 0x7f80cad889e8>"
      ]
     },
     "execution_count": 9,
     "metadata": {},
     "output_type": "execute_result"
    },
    {
     "data": {
      "image/png": "[encoded data removed]",
      "text/plain": [
       "<Figure size 432x288 with 1 Axes>"
      ]
     },
     "metadata": {},
     "output_type": "display_data"
    }
   ],
   "source": [
    "n_leagues.plot.pie()"
   ]
  },
  {
   "cell_type": "markdown",
   "metadata": {},
   "source": [
    "<h4>Bubble</h4>"
   ]
  },
  {
   "cell_type": "code",
   "execution_count": 42,
   "metadata": {},
   "outputs": [
    {
     "data": {
      "text/plain": [
       "<matplotlib.axes._subplots.AxesSubplot at 0x7f0a8c72abe0>"
      ]
     },
     "execution_count": 42,
     "metadata": {},
     "output_type": "execute_result"
    },
    {
     "data": {
      "image/png": "[encoded data removed]",
      "text/plain": [
       "<Figure size 432x288 with 1 Axes>"
      ]
     },
     "metadata": {
      "needs_background": "light"
     },
     "output_type": "display_data"
    }
   ],
   "source": [
    "import seaborn as sns\n",
    "\n",
    "refs.columns\n",
    "sns.scatterplot(refs.collectible, refs.cost)"
   ]
  },
  {
   "cell_type": "code",
   "execution_count": 1,
   "metadata": {},
   "outputs": [
    {
     "ename": "NameError",
     "evalue": "name 'plt' is not defined",
     "output_type": "error",
     "traceback": [
      "\u001b[0;31m---------------------------------------------------------------------------\u001b[0m",
      "\u001b[0;31mNameError\u001b[0m                                 Traceback (most recent call last)",
      "\u001b[0;32m<ipython-input-1-2eb6917f3301>\u001b[0m in \u001b[0;36m<module>\u001b[0;34m\u001b[0m\n\u001b[0;32m----> 1\u001b[0;31m \u001b[0mplt\u001b[0m\u001b[0;34m.\u001b[0m\u001b[0mscatter\u001b[0m\u001b[0;34m(\u001b[0m\u001b[0mkills\u001b[0m\u001b[0;34m[\u001b[0m\u001b[0;34m'x_pos'\u001b[0m\u001b[0;34m]\u001b[0m\u001b[0;34m,\u001b[0m \u001b[0mkills\u001b[0m\u001b[0;34m[\u001b[0m\u001b[0;34m'y_pos'\u001b[0m\u001b[0;34m]\u001b[0m\u001b[0;34m)\u001b[0m\u001b[0;34m\u001b[0m\u001b[0m\n\u001b[0m\u001b[1;32m      2\u001b[0m \u001b[0;31m# plt.scatter(gold['min_3'],gold['min_4'])\u001b[0m\u001b[0;34m\u001b[0m\u001b[0;34m\u001b[0m\u001b[0m\n\u001b[1;32m      3\u001b[0m \u001b[0;31m# plt.scatter(gold['min_5'],gold['min_6'])\u001b[0m\u001b[0;34m\u001b[0m\u001b[0;34m\u001b[0m\u001b[0m\n",
      "\u001b[0;31mNameError\u001b[0m: name 'plt' is not defined"
     ]
    }
   ],
   "source": [
    "plt.scatter(kills['x_pos'], kills['y_pos'])\n",
    "# plt.scatter(gold['min_3'],gold['min_4'])\n",
    "# plt.scatter(gold['min_5'],gold['min_6'])\n"
   ]
  },
  {
   "cell_type": "markdown",
   "metadata": {},
   "source": [
    "<h4><strong>Conclusão</strong></h4>\n",
    "       <br> É possivel integrar o Python com frameworks para Web (como Django ou Flask) e com outras linguagens (como Javascript), o que aumenta as possibilidades de desenvolvimento. Além disso, existem diversas bibliotecas disponíveis para análise de dados. Este pacote inclui diversas utilidades, entre elas o Pandas, Numpy, Holoviews. Além disso, por ser mais antigo, Python é mais robusto e menos propenso a mudanças drásticas. \n",
    "    <br>  Python é uma linguagem de propósito geral bem estabelecida, ao contrário do R que é uma linguagem mais especializada e do Júlia que é uma linguagem relativamente nova, sendo assim a experiência adiquirida terá um maior potêncial de uso em aplicações futuras, seja em outros trabalhos ou no mercado.\n",
    "    <br> Apesar da deficiência do Python para programação paralela, acreditamos que a facilidade de codificar usando a linguagem trará uma vantagem mais significativa do que tempo de execução e mais liberdade para focar na análise dos dados, sem se preocupar com aprender as nuances de uma nova linguagem.\n",
    "    <br> Existem também uma biblioteca para rodar códico R em python caso alguma funcionalidade específica do R seja necessária."
   ]
  },
  {
   "cell_type": "markdown",
   "metadata": {},
   "source": [
    "# Referências:\n",
    "\n",
    "<h4>League of Legends - Competitive Matches, 2015 to 2018</h4>\n",
    "(https://www.kaggle.com/chuckephron/leagueoflegends)\n",
    "\n",
    "<br>https://www.python.org\n",
    "<br>Python for Data Analysis: Data Wrangling with Pandas, NumPy, and IPython Por Wes McKinney\n",
    "<br>https://books.google.com.br/books?hl=pt-BR&lr=&id=v3n4_AK8vu0C&oi=fnd&pg=PR3&dq=python+for+data+analysis&ots=rgJL4hyrqx&sig=v6onow7Ag9Qs4S11awiGeHLpSd4#v=onepage&q&f=false\n",
    "<br>http://www.cienciaedados.com/por-que-cientistas-de-dados-escolhem-python/\n",
    "<br>https://www.cbtnuggets.com/blog/technology/data/why-data-scientists-love-python    \n",
    "https://hackncast.org/v06-python\n",
    "<br>https://minerandodados.com.br/por-que-o-python-e-a-linguagem-mais-adotada-na-area-de-data-science/\n",
    "<br>Wes McKinney Python for Data Analysis: Data Wrangling with Pandas, NumPy, and IPython (2012)\n",
    "<br>https://cio.com.br/julia-vs-python-qual-e-a-melhor-para-a-ciencia-de-dados/\n",
    "<br>http://datascienceacademy.com.br/blog/top-20-bibliotecas-python-para-data-science/\n"
   ]
  },
  {
   "cell_type": "code",
   "execution_count": 11,
   "metadata": {
    "scrolled": true
   },
   "outputs": [],
   "source": [
    "\n",
    "#url = \"https://...\"\n",
    "#s= requests.get(url).content #Puxa uma url da rede \n",
    "#c= pd.read_csv(io.StringIO(s.decode('utf-8'))) #Puxa um dataset da url\n",
    "\n",
    "#FICO BUNITO MAIS DEU BOSTA\n",
    "#for x in arquivos:\n",
    "#    dataset = pandas.read_csv('/home/' + str(user) + '/Downloads/datasets/' + str(x))\n",
    "#    lista_temp = {\n",
    "#    \n",
    "#        'nome': x,\n",
    "#        'dataset': dataset,\n",
    "#    }\n",
    "#    lista_datasets.append(lista_temp)\n",
    "\n",
    "# print(league_of_legends) \n",
    "# league = league_of_legends[[\"League\", \"bResult\"]] #Dois Colchetes = Selecionar linhas e colunas de um único dataset\n",
    "# print(league)\n",
    "#league_of_legends.loc[0] # Seleciona uma Linha do dataset\n",
    "# league_of_legends.iloc[0] # Seleciona uma Linha do dataset\n",
    "# league_of_legends.loc[[0]] # Seleciona uma Linha do dataset\n",
    "# league_of_legends.iloc[[0]] # Seleciona uma Linha do dataset\n",
    "\n",
    "# league_of_legends_nalcs_btag = league\n",
    "# league_nalcs_2015 = league_nalcs and league_2015\n",
    "# # print(league_nalcs)\n",
    "# print(league_of_legends[league_nalcs_2015])"
   ]
  },
  {
   "cell_type": "code",
   "execution_count": null,
   "metadata": {},
   "outputs": [],
   "source": []
  },
  {
   "cell_type": "code",
   "execution_count": null,
   "metadata": {},
   "outputs": [],
   "source": []
  }
 ],
 "metadata": {
  "kernelspec": {
   "display_name": "Python 3",
   "language": "python",
   "name": "python3"
  },
  "language_info": {
   "codemirror_mode": {
    "name": "ipython",
    "version": 3
   },
   "file_extension": ".py",
   "mimetype": "text/x-python",
   "name": "python",
   "nbconvert_exporter": "python",
   "pygments_lexer": "ipython3",
   "version": "3.5.3"
  }
 },
 "nbformat": 4,
 "nbformat_minor": 2
}
